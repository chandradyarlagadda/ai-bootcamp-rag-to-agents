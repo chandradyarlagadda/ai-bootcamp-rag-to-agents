{
 "cells": [
  {
   "cell_type": "code",
   "execution_count": 4,
   "id": "f82d813879de7847",
   "metadata": {},
   "outputs": [
    {
     "name": "stdout",
     "output_type": "stream",
     "text": [
      "OPENAI_API_KEY is set\n"
     ]
    }
   ],
   "source": [
    "import os\n",
    "\n",
    "# Access a specific environment variable\n",
    "api_key = os.environ.get('OPENAI_API_KEY')\n",
    "\n",
    "# Check if a variable exists\n",
    "if 'OPENAI_API_KEY' in os.environ:\n",
    "    print(f\"OPENAI_API_KEY is set\")\n",
    "else :\n",
    "    print(f\"OPENAI_API_KEY is not set\")"
   ]
  },
  {
   "cell_type": "code",
   "execution_count": 2,
   "id": "c5d098c3af5c9497",
   "metadata": {
    "ExecuteTime": {
     "end_time": "2025-10-08T04:00:59.884801Z",
     "start_time": "2025-10-08T04:00:59.046957Z"
    }
   },
   "outputs": [],
   "source": [
    "from openai import OpenAI"
   ]
  },
  {
   "cell_type": "code",
   "execution_count": 3,
   "id": "2ae045e1e84088dc",
   "metadata": {
    "ExecuteTime": {
     "end_time": "2025-10-08T05:00:15.183275Z",
     "start_time": "2025-10-08T05:00:15.111157Z"
    }
   },
   "outputs": [],
   "source": [
    "openai_client = OpenAI()"
   ]
  },
  {
   "cell_type": "code",
   "execution_count": 9,
   "id": "fb487c227cfabd58",
   "metadata": {
    "ExecuteTime": {
     "end_time": "2025-10-08T05:08:13.901790Z",
     "start_time": "2025-10-08T05:08:13.900690Z"
    }
   },
   "outputs": [
    {
     "name": "stdout",
     "output_type": "stream",
     "text": [
      "### Luna the Sparkling Unicorn\n",
      "\n",
      "Once upon a time, in a forest filled with shimmering stars and soft, glowing flowers, lived a unicorn named Luna. Unlike any ordinary unicorn, Luna's mane sparkled like the night sky, and her horn shimmered with the colors of the rainbow.\n",
      "\n",
      "Every evening, as the sun dipped below the horizon, Luna galloped through the forest, leaving a trail of stardust. Her laughter echoed like tiny bells, and the woodland creatures would gather to watch her dance under the moonlight.\n",
      "\n",
      "One night, while exploring a part of the forest she had never seen before, Luna discovered a hidden glade. In the center stood a lonely little tree, its branches drooping sadly. Curious, Luna approached and asked, \"Why do you look so sad, dear tree?\"\n",
      "\n",
      "The tree sighed, \"I was once grand and full of life, but I haven’t seen the stars for so long. I miss their light.\"\n",
      "\n",
      "Determined to help her new friend, Luna closed her eyes and tapped her horn gently against the tree's trunk. Instantly, sparkles filled the air, and Luna whispered, “May you feel the magic of the stars!”\n",
      "\n",
      "Suddenly, the tree began to glow! Tiny lights appeared among its branches, twinkling like stars. The tree perked up, its leaves shimmering in delight. \"You’ve brought the stars back to me!\" it exclaimed joyfully.\n",
      "\n",
      "Luna beamed with happiness, knowing she had made a difference. From that night on, the tree illuminated the glade, and creatures from far and wide came to dance and sing under its radiant glow.\n",
      "\n",
      "As the moon rose high in the sky, Luna took a moment to rest. Looking at her friends dancing in the light, she felt warmth in her heart. \n",
      "\n",
      "That night, under the sparkling stars, Luna whispered a wish to never forget the magic of kindness. And from that day on, Luna and the tree remained the best of friends, spreading light and joy throughout the forest for many moons to come.\n",
      "\n",
      "And so, every time you see the stars twinkling brightly at night, remember Luna the unicorn and the kindness that brought light to a once lonely tree.\n",
      "\n",
      "### The End. \n",
      "\n",
      "Sweet dreams!\n"
     ]
    }
   ],
   "source": [
    "response = openai_client.responses.create(\n",
    "    model=\"gpt-4o-mini\",\n",
    "    input=\"Write a short bedtime story about a unicorn.\"\n",
    ")\n",
    "\n",
    "print(response.output_text)"
   ]
  },
  {
   "cell_type": "code",
   "execution_count": null,
   "id": "f58c8264-94f3-4490-887f-68be9208d876",
   "metadata": {},
   "outputs": [],
   "source": []
  }
 ],
 "metadata": {
  "kernelspec": {
   "display_name": "Python 3 (ipykernel)",
   "language": "python",
   "name": "python3"
  },
  "language_info": {
   "codemirror_mode": {
    "name": "ipython",
    "version": 3
   },
   "file_extension": ".py",
   "mimetype": "text/x-python",
   "name": "python",
   "nbconvert_exporter": "python",
   "pygments_lexer": "ipython3",
   "version": "3.12.9"
  }
 },
 "nbformat": 4,
 "nbformat_minor": 5
}
