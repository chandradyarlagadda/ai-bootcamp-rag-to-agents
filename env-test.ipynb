{
 "cells": [
  {
   "cell_type": "code",
   "execution_count": 4,
   "id": "f82d813879de7847",
   "metadata": {},
   "outputs": [
    {
     "name": "stdout",
     "output_type": "stream",
     "text": [
      "OPENAI_API_KEY is set\n"
     ]
    }
   ],
   "source": [
    "import os\n",
    "\n",
    "# Access a specific environment variable\n",
    "api_key = os.environ.get('OPENAI_API_KEY')\n",
    "\n",
    "# Check if a variable exists\n",
    "if 'OPENAI_API_KEY' in os.environ:\n",
    "    print(f\"OPENAI_API_KEY is set\")\n",
    "else :\n",
    "    print(f\"OPENAI_API_KEY is not set\")"
   ]
  },
  {
   "cell_type": "code",
   "execution_count": 2,
   "id": "c5d098c3af5c9497",
   "metadata": {
    "ExecuteTime": {
     "end_time": "2025-10-08T04:00:59.884801Z",
     "start_time": "2025-10-08T04:00:59.046957Z"
    }
   },
   "outputs": [],
   "source": [
    "from openai import OpenAI"
   ]
  },
  {
   "cell_type": "code",
   "execution_count": 3,
   "id": "2ae045e1e84088dc",
   "metadata": {
    "ExecuteTime": {
     "end_time": "2025-10-08T05:00:15.183275Z",
     "start_time": "2025-10-08T05:00:15.111157Z"
    }
   },
   "outputs": [],
   "source": [
    "openai_client = OpenAI()"
   ]
  },
  {
   "cell_type": "code",
   "execution_count": null,
   "id": "fb487c227cfabd58",
   "metadata": {
    "ExecuteTime": {
     "end_time": "2025-10-08T05:08:13.901790Z",
     "start_time": "2025-10-08T05:08:13.900690Z"
    }
   },
   "outputs": [],
   "source": []
  },
  {
   "cell_type": "code",
   "execution_count": null,
   "id": "55881f0efafb1897",
   "metadata": {},
   "outputs": [],
   "source": []
  }
 ],
 "metadata": {
  "kernelspec": {
   "display_name": "Python 3 (ipykernel)",
   "language": "python",
   "name": "python3"
  },
  "language_info": {
   "codemirror_mode": {
    "name": "ipython",
    "version": 3
   },
   "file_extension": ".py",
   "mimetype": "text/x-python",
   "name": "python",
   "nbconvert_exporter": "python",
   "pygments_lexer": "ipython3",
   "version": "3.12.9"
  }
 },
 "nbformat": 4,
 "nbformat_minor": 5
}
