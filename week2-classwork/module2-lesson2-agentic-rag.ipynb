{
 "cells": [
  {
   "cell_type": "code",
   "id": "initial_id",
   "metadata": {
    "collapsed": true,
    "ExecuteTime": {
     "end_time": "2025-10-14T16:29:51.636043Z",
     "start_time": "2025-10-14T16:29:50.803910Z"
    }
   },
   "source": [
    "# Get Data from documents\n",
    "\n",
    "import requests\n",
    "from openai.types.responses import ResponseFunctionToolCall\n",
    "\n",
    "docs_url = 'https://github.com/alexeygrigorev/llm-rag-workshop/raw/main/notebooks/documents.json'\n",
    "docs_response = requests.get(docs_url)\n",
    "documents_raw = docs_response.json()\n",
    "\n",
    "\n",
    "documents = []\n",
    "\n",
    "for record in documents_raw:\n",
    "    course_name = record['course'] #data-engineering-zoomcamp#\n",
    "\n",
    "    for element in record['documents']: #documents[]\n",
    "        element['course'] = course_name\n",
    "        documents.append(element)"
   ],
   "outputs": [],
   "execution_count": 1
  },
  {
   "metadata": {
    "ExecuteTime": {
     "end_time": "2025-10-14T16:29:57.517337Z",
     "start_time": "2025-10-14T16:29:54.543096Z"
    }
   },
   "cell_type": "code",
   "source": [
    "# Create an Appendable Index ( Advantage is that we can keep adding to an appendable index)\n",
    "from minsearch import AppendableIndex\n",
    "\n",
    "index = AppendableIndex(\n",
    "    text_fields=[\"question\", \"text\", \"section\"],\n",
    "    keyword_fields=[\"course\"]\n",
    ")\n",
    "\n",
    "index.fit(documents)\n",
    "\n",
    "# to append , we can use the following function\n",
    "#index.append(XXXX);\n"
   ],
   "id": "a9b3482d6c55fbbb",
   "outputs": [
    {
     "data": {
      "text/plain": [
       "<minsearch.append.AppendableIndex at 0x106bba0c0>"
      ]
     },
     "execution_count": 2,
     "metadata": {},
     "output_type": "execute_result"
    }
   ],
   "execution_count": 2
  },
  {
   "metadata": {
    "ExecuteTime": {
     "end_time": "2025-10-14T16:30:58.898158Z",
     "start_time": "2025-10-14T16:30:58.895517Z"
    }
   },
   "cell_type": "code",
   "source": [
    "# Create the search function to get results from Search Index create above\n",
    "\n",
    "def search(query):\n",
    "    boost = {'question': 3.0, 'section': 0.5}\n",
    "\n",
    "    results = index.search(\n",
    "        query=query,\n",
    "        filter_dict={'course': 'data-engineering-zoomcamp'},\n",
    "        boost_dict=boost,\n",
    "        num_results=5,\n",
    "    )\n",
    "\n",
    "    return results"
   ],
   "id": "8731ab3b114caae5",
   "outputs": [],
   "execution_count": 3
  },
  {
   "metadata": {
    "ExecuteTime": {
     "end_time": "2025-10-14T16:38:13.093589Z",
     "start_time": "2025-10-14T16:38:13.090765Z"
    }
   },
   "cell_type": "code",
   "source": [
    "#define the search tool\n",
    "\n",
    "search_tool = {\n",
    "    \"type\": \"function\",\n",
    "    \"name\": \"search\",\n",
    "    \"description\": \"Search the FAQ database\",\n",
    "    \"parameters\": {\n",
    "        \"type\": \"object\",\n",
    "        \"properties\": {\n",
    "            \"query\": {\n",
    "                \"type\": \"string\",\n",
    "                \"description\": \"Search query text to look up in the course FAQ.\"\n",
    "            }\n",
    "        },\n",
    "        \"required\": [\"query\"],\n",
    "        \"additionalProperties\": False\n",
    "    }\n",
    "}\n"
   ],
   "id": "616fd58c3754c541",
   "outputs": [],
   "execution_count": 5
  },
  {
   "metadata": {
    "ExecuteTime": {
     "end_time": "2025-10-14T17:18:27.444635Z",
     "start_time": "2025-10-14T17:18:25.925394Z"
    }
   },
   "cell_type": "code",
   "source": [
    "#Create Open AI Client\n",
    "from openai import OpenAI\n",
    "openai_client = OpenAI()\n",
    "\n",
    "# Set System prompt\n",
    "instructions = \"\"\"\n",
    "You're a course teaching assistant.\n",
    "You're given a question from a course student and your task is to answer it.\n",
    "\"\"\".strip()\n",
    "\n",
    "# Define the tools. in our case we are including search tool. More tools can be provided\n",
    "tools = [search_tool]\n",
    "\n",
    "question = 'I just discovered the course. Can I still join it?'\n",
    "chat_messages = [\n",
    "    {\"role\": \"developer\", \"content\": instructions}, #intermediary\n",
    "    {\"role\": \"user\", \"content\": question} #from users\n",
    "]\n",
    "\n",
    "# Send the tools defines along with the system prompt and user question\n",
    "response = openai_client.responses.create(\n",
    "    model='gpt-4o-mini',\n",
    "    input=chat_messages,\n",
    "    tools=tools\n",
    ")\n"
   ],
   "id": "49ede4a5023be339",
   "outputs": [],
   "execution_count": 26
  },
  {
   "metadata": {
    "ExecuteTime": {
     "end_time": "2025-10-14T17:00:14.628167Z",
     "start_time": "2025-10-14T17:00:14.625089Z"
    }
   },
   "cell_type": "code",
   "source": [
    "import json\n",
    "#Checkout the response. This will have instructions asking to call the search tool to get the data.\n",
    "response.output[0]"
   ],
   "id": "f880ed7a79b122eb",
   "outputs": [
    {
     "data": {
      "text/plain": [
       "ResponseFunctionToolCall(arguments='{\"query\":\"Can I still join the course?\"}', call_id='call_N4oSprdIBzoF0e4adrR3RT9Q', name='search', type='function_call', id='fc_052320d5576cfe350068ee7c7b6a648193991312d2678dea9e', status='completed')"
      ]
     },
     "execution_count": 9,
     "metadata": {},
     "output_type": "execute_result"
    }
   ],
   "execution_count": 9
  },
  {
   "metadata": {
    "ExecuteTime": {
     "end_time": "2025-10-14T17:23:39.291947Z",
     "start_time": "2025-10-14T17:23:39.288982Z"
    }
   },
   "cell_type": "code",
   "source": [
    "# write a function that takes in the call object and returns back a json formatted value\n",
    "# that can be passed onto the Open AI call with chat messages\n",
    "\n",
    "def call_search_tool(call):\n",
    "    arguments = json.loads(call.arguments)\n",
    "    query = arguments['query']\n",
    "    search_results = json.dumps(search(query))\n",
    "    return json.dumps({\n",
    "        \"type\": \"function_call_output\",\n",
    "        \"call_id\": call.call_id,\n",
    "        \"output\": search_results\n",
    "    })"
   ],
   "id": "dd8d478e99446d6e",
   "outputs": [],
   "execution_count": 38
  },
  {
   "metadata": {
    "ExecuteTime": {
     "end_time": "2025-10-14T17:23:54.247705Z",
     "start_time": "2025-10-14T17:23:54.244894Z"
    }
   },
   "cell_type": "code",
   "source": [
    "import json\n",
    "# let's put the response in an object called callParameters\n",
    "# The key here is\n",
    "## name : This is the name of the tool\n",
    "## type : How we expect the tool to work. In our case it's a function_call\n",
    "## id : An id that will be used by OpenAI to match the response of the function call\n",
    "## arguments : The arguments that should be provided to the tool\n",
    "\n",
    "call = response.output[0]\n"
   ],
   "id": "34038b9412169231",
   "outputs": [],
   "execution_count": 39
  },
  {
   "metadata": {
    "ExecuteTime": {
     "end_time": "2025-10-14T17:24:03.455853Z",
     "start_time": "2025-10-14T17:24:03.419854Z"
    }
   },
   "cell_type": "code",
   "source": [
    "# append the result to chat messages and send it back to OpenAI\n",
    "\n",
    "chat_messages.append(json.dumps(call_search_tool(call)))\n",
    "\n",
    "print(chat_messages[0])\n",
    "print(chat_messages[1])\n",
    "print(chat_messages[2])\n"
   ],
   "id": "82d782ee5533e8cc",
   "outputs": [
    {
     "name": "stdout",
     "output_type": "stream",
     "text": [
      "{'role': 'developer', 'content': \"You're a course teaching assistant.\\nYou're given a question from a course student and your task is to answer it.\"}\n",
      "{'role': 'user', 'content': 'I just discovered the course. Can I still join it?'}\n",
      "{\"type\": \"function_call_output\", \"call_id\": \"call_N4oSprdIBzoF0e4adrR3RT9Q\", \"output\": \"[{\\\"text\\\": \\\"Yes, even if you don't register, you're still eligible to submit the homeworks.\\\\nBe aware, however, that there will be deadlines for turning in the final projects. So don't leave everything for the last minute.\\\", \\\"section\\\": \\\"General course-related questions\\\", \\\"question\\\": \\\"Course - Can I still join the course after the start date?\\\", \\\"course\\\": \\\"data-engineering-zoomcamp\\\"}, {\\\"text\\\": \\\"No, you can only get a certificate if you finish the course with a \\\\u201clive\\\\u201d cohort. We don't award certificates for the self-paced mode. The reason is you need to peer-review capstone(s) after submitting a project. You can only peer-review projects at the time the course is running.\\\", \\\"section\\\": \\\"General course-related questions\\\", \\\"question\\\": \\\"Certificate - Can I follow the course in a self-paced mode and get a certificate?\\\", \\\"course\\\": \\\"data-engineering-zoomcamp\\\"}, {\\\"text\\\": \\\"Yes, we will keep all the materials after the course finishes, so you can follow the course at your own pace after it finishes.\\\\nYou can also continue looking at the homeworks and continue preparing for the next cohort. I guess you can also start working on your final capstone project.\\\", \\\"section\\\": \\\"General course-related questions\\\", \\\"question\\\": \\\"Course - Can I follow the course after it finishes?\\\", \\\"course\\\": \\\"data-engineering-zoomcamp\\\"}, {\\\"text\\\": \\\"The purpose of this document is to capture frequently asked technical questions\\\\nThe exact day and hour of the course will be 15th Jan 2024 at 17h00. The course will start with the first  \\\\u201cOffice Hours'' live.1\\\\nSubscribe to course public Google Calendar (it works from Desktop only).\\\\nRegister before the course starts using this link.\\\\nJoin the course Telegram channel with announcements.\\\\nDon\\\\u2019t forget to register in DataTalks.Club's Slack and join the channel.\\\", \\\"section\\\": \\\"General course-related questions\\\", \\\"question\\\": \\\"Course - When will the course start?\\\", \\\"course\\\": \\\"data-engineering-zoomcamp\\\"}, {\\\"text\\\": \\\"You don't need it. You're accepted. You can also just start learning and submitting homework without registering. It is not checked against any registered list. Registration is just to gauge interest before the start date.\\\", \\\"section\\\": \\\"General course-related questions\\\", \\\"question\\\": \\\"Course - I have registered for the Data Engineering Bootcamp. When can I expect to receive the confirmation email?\\\", \\\"course\\\": \\\"data-engineering-zoomcamp\\\"}]\"}\n"
     ]
    }
   ],
   "execution_count": 40
  },
  {
   "metadata": {
    "ExecuteTime": {
     "end_time": "2025-10-14T17:21:59.979467Z",
     "start_time": "2025-10-14T17:21:59.487670Z"
    }
   },
   "cell_type": "code",
   "source": [
    "# Send the tools defines along with the system prompt and user question and tool output\n",
    "\n",
    "print(chat_messages)\n",
    "print(tools)\n",
    "\n",
    "response_with_tool_output = openai_client.responses.create(\n",
    "    model='gpt-4o-mini',\n",
    "    input=chat_messages,\n",
    "    tools=tools\n",
    ")"
   ],
   "id": "76ec3b1fe9d0e7a1",
   "outputs": [
    {
     "name": "stdout",
     "output_type": "stream",
     "text": [
      "[{'role': 'developer', 'content': \"You're a course teaching assistant.\\nYou're given a question from a course student and your task is to answer it.\"}, {'role': 'user', 'content': 'I just discovered the course. Can I still join it?'}, '{\"type\": \"function_call_output\", \"call_id\": \"call_N4oSprdIBzoF0e4adrR3RT9Q\", \"output\": \"[{\\\\\"text\\\\\": \\\\\"Yes, even if you don\\'t register, you\\'re still eligible to submit the homeworks.\\\\\\\\nBe aware, however, that there will be deadlines for turning in the final projects. So don\\'t leave everything for the last minute.\\\\\", \\\\\"section\\\\\": \\\\\"General course-related questions\\\\\", \\\\\"question\\\\\": \\\\\"Course - Can I still join the course after the start date?\\\\\", \\\\\"course\\\\\": \\\\\"data-engineering-zoomcamp\\\\\"}, {\\\\\"text\\\\\": \\\\\"No, you can only get a certificate if you finish the course with a \\\\\\\\u201clive\\\\\\\\u201d cohort. We don\\'t award certificates for the self-paced mode. The reason is you need to peer-review capstone(s) after submitting a project. You can only peer-review projects at the time the course is running.\\\\\", \\\\\"section\\\\\": \\\\\"General course-related questions\\\\\", \\\\\"question\\\\\": \\\\\"Certificate - Can I follow the course in a self-paced mode and get a certificate?\\\\\", \\\\\"course\\\\\": \\\\\"data-engineering-zoomcamp\\\\\"}, {\\\\\"text\\\\\": \\\\\"Yes, we will keep all the materials after the course finishes, so you can follow the course at your own pace after it finishes.\\\\\\\\nYou can also continue looking at the homeworks and continue preparing for the next cohort. I guess you can also start working on your final capstone project.\\\\\", \\\\\"section\\\\\": \\\\\"General course-related questions\\\\\", \\\\\"question\\\\\": \\\\\"Course - Can I follow the course after it finishes?\\\\\", \\\\\"course\\\\\": \\\\\"data-engineering-zoomcamp\\\\\"}, {\\\\\"text\\\\\": \\\\\"The purpose of this document is to capture frequently asked technical questions\\\\\\\\nThe exact day and hour of the course will be 15th Jan 2024 at 17h00. The course will start with the first  \\\\\\\\u201cOffice Hours\\'\\' live.1\\\\\\\\nSubscribe to course public Google Calendar (it works from Desktop only).\\\\\\\\nRegister before the course starts using this link.\\\\\\\\nJoin the course Telegram channel with announcements.\\\\\\\\nDon\\\\\\\\u2019t forget to register in DataTalks.Club\\'s Slack and join the channel.\\\\\", \\\\\"section\\\\\": \\\\\"General course-related questions\\\\\", \\\\\"question\\\\\": \\\\\"Course - When will the course start?\\\\\", \\\\\"course\\\\\": \\\\\"data-engineering-zoomcamp\\\\\"}, {\\\\\"text\\\\\": \\\\\"You don\\'t need it. You\\'re accepted. You can also just start learning and submitting homework without registering. It is not checked against any registered list. Registration is just to gauge interest before the start date.\\\\\", \\\\\"section\\\\\": \\\\\"General course-related questions\\\\\", \\\\\"question\\\\\": \\\\\"Course - I have registered for the Data Engineering Bootcamp. When can I expect to receive the confirmation email?\\\\\", \\\\\"course\\\\\": \\\\\"data-engineering-zoomcamp\\\\\"}]\"}', '{\"type\": \"function_call_output\", \"call_id\": \"call_N4oSprdIBzoF0e4adrR3RT9Q\", \"output\": \"[{\\\\\"text\\\\\": \\\\\"Yes, even if you don\\'t register, you\\'re still eligible to submit the homeworks.\\\\\\\\nBe aware, however, that there will be deadlines for turning in the final projects. So don\\'t leave everything for the last minute.\\\\\", \\\\\"section\\\\\": \\\\\"General course-related questions\\\\\", \\\\\"question\\\\\": \\\\\"Course - Can I still join the course after the start date?\\\\\", \\\\\"course\\\\\": \\\\\"data-engineering-zoomcamp\\\\\"}, {\\\\\"text\\\\\": \\\\\"No, you can only get a certificate if you finish the course with a \\\\\\\\u201clive\\\\\\\\u201d cohort. We don\\'t award certificates for the self-paced mode. The reason is you need to peer-review capstone(s) after submitting a project. You can only peer-review projects at the time the course is running.\\\\\", \\\\\"section\\\\\": \\\\\"General course-related questions\\\\\", \\\\\"question\\\\\": \\\\\"Certificate - Can I follow the course in a self-paced mode and get a certificate?\\\\\", \\\\\"course\\\\\": \\\\\"data-engineering-zoomcamp\\\\\"}, {\\\\\"text\\\\\": \\\\\"Yes, we will keep all the materials after the course finishes, so you can follow the course at your own pace after it finishes.\\\\\\\\nYou can also continue looking at the homeworks and continue preparing for the next cohort. I guess you can also start working on your final capstone project.\\\\\", \\\\\"section\\\\\": \\\\\"General course-related questions\\\\\", \\\\\"question\\\\\": \\\\\"Course - Can I follow the course after it finishes?\\\\\", \\\\\"course\\\\\": \\\\\"data-engineering-zoomcamp\\\\\"}, {\\\\\"text\\\\\": \\\\\"The purpose of this document is to capture frequently asked technical questions\\\\\\\\nThe exact day and hour of the course will be 15th Jan 2024 at 17h00. The course will start with the first  \\\\\\\\u201cOffice Hours\\'\\' live.1\\\\\\\\nSubscribe to course public Google Calendar (it works from Desktop only).\\\\\\\\nRegister before the course starts using this link.\\\\\\\\nJoin the course Telegram channel with announcements.\\\\\\\\nDon\\\\\\\\u2019t forget to register in DataTalks.Club\\'s Slack and join the channel.\\\\\", \\\\\"section\\\\\": \\\\\"General course-related questions\\\\\", \\\\\"question\\\\\": \\\\\"Course - When will the course start?\\\\\", \\\\\"course\\\\\": \\\\\"data-engineering-zoomcamp\\\\\"}, {\\\\\"text\\\\\": \\\\\"You don\\'t need it. You\\'re accepted. You can also just start learning and submitting homework without registering. It is not checked against any registered list. Registration is just to gauge interest before the start date.\\\\\", \\\\\"section\\\\\": \\\\\"General course-related questions\\\\\", \\\\\"question\\\\\": \\\\\"Course - I have registered for the Data Engineering Bootcamp. When can I expect to receive the confirmation email?\\\\\", \\\\\"course\\\\\": \\\\\"data-engineering-zoomcamp\\\\\"}]\"}', '{\"type\": \"function_call_output\", \"call_id\": \"call_N4oSprdIBzoF0e4adrR3RT9Q\", \"output\": \"[{\\\\\"text\\\\\": \\\\\"Yes, even if you don\\'t register, you\\'re still eligible to submit the homeworks.\\\\\\\\nBe aware, however, that there will be deadlines for turning in the final projects. So don\\'t leave everything for the last minute.\\\\\", \\\\\"section\\\\\": \\\\\"General course-related questions\\\\\", \\\\\"question\\\\\": \\\\\"Course - Can I still join the course after the start date?\\\\\", \\\\\"course\\\\\": \\\\\"data-engineering-zoomcamp\\\\\"}, {\\\\\"text\\\\\": \\\\\"No, you can only get a certificate if you finish the course with a \\\\\\\\u201clive\\\\\\\\u201d cohort. We don\\'t award certificates for the self-paced mode. The reason is you need to peer-review capstone(s) after submitting a project. You can only peer-review projects at the time the course is running.\\\\\", \\\\\"section\\\\\": \\\\\"General course-related questions\\\\\", \\\\\"question\\\\\": \\\\\"Certificate - Can I follow the course in a self-paced mode and get a certificate?\\\\\", \\\\\"course\\\\\": \\\\\"data-engineering-zoomcamp\\\\\"}, {\\\\\"text\\\\\": \\\\\"Yes, we will keep all the materials after the course finishes, so you can follow the course at your own pace after it finishes.\\\\\\\\nYou can also continue looking at the homeworks and continue preparing for the next cohort. I guess you can also start working on your final capstone project.\\\\\", \\\\\"section\\\\\": \\\\\"General course-related questions\\\\\", \\\\\"question\\\\\": \\\\\"Course - Can I follow the course after it finishes?\\\\\", \\\\\"course\\\\\": \\\\\"data-engineering-zoomcamp\\\\\"}, {\\\\\"text\\\\\": \\\\\"The purpose of this document is to capture frequently asked technical questions\\\\\\\\nThe exact day and hour of the course will be 15th Jan 2024 at 17h00. The course will start with the first  \\\\\\\\u201cOffice Hours\\'\\' live.1\\\\\\\\nSubscribe to course public Google Calendar (it works from Desktop only).\\\\\\\\nRegister before the course starts using this link.\\\\\\\\nJoin the course Telegram channel with announcements.\\\\\\\\nDon\\\\\\\\u2019t forget to register in DataTalks.Club\\'s Slack and join the channel.\\\\\", \\\\\"section\\\\\": \\\\\"General course-related questions\\\\\", \\\\\"question\\\\\": \\\\\"Course - When will the course start?\\\\\", \\\\\"course\\\\\": \\\\\"data-engineering-zoomcamp\\\\\"}, {\\\\\"text\\\\\": \\\\\"You don\\'t need it. You\\'re accepted. You can also just start learning and submitting homework without registering. It is not checked against any registered list. Registration is just to gauge interest before the start date.\\\\\", \\\\\"section\\\\\": \\\\\"General course-related questions\\\\\", \\\\\"question\\\\\": \\\\\"Course - I have registered for the Data Engineering Bootcamp. When can I expect to receive the confirmation email?\\\\\", \\\\\"course\\\\\": \\\\\"data-engineering-zoomcamp\\\\\"}]\"}', '{\"type\": \"function_call_output\", \"call_id\": \"call_N4oSprdIBzoF0e4adrR3RT9Q\", \"output\": \"[{\\\\\"text\\\\\": \\\\\"Yes, even if you don\\'t register, you\\'re still eligible to submit the homeworks.\\\\\\\\nBe aware, however, that there will be deadlines for turning in the final projects. So don\\'t leave everything for the last minute.\\\\\", \\\\\"section\\\\\": \\\\\"General course-related questions\\\\\", \\\\\"question\\\\\": \\\\\"Course - Can I still join the course after the start date?\\\\\", \\\\\"course\\\\\": \\\\\"data-engineering-zoomcamp\\\\\"}, {\\\\\"text\\\\\": \\\\\"No, you can only get a certificate if you finish the course with a \\\\\\\\u201clive\\\\\\\\u201d cohort. We don\\'t award certificates for the self-paced mode. The reason is you need to peer-review capstone(s) after submitting a project. You can only peer-review projects at the time the course is running.\\\\\", \\\\\"section\\\\\": \\\\\"General course-related questions\\\\\", \\\\\"question\\\\\": \\\\\"Certificate - Can I follow the course in a self-paced mode and get a certificate?\\\\\", \\\\\"course\\\\\": \\\\\"data-engineering-zoomcamp\\\\\"}, {\\\\\"text\\\\\": \\\\\"Yes, we will keep all the materials after the course finishes, so you can follow the course at your own pace after it finishes.\\\\\\\\nYou can also continue looking at the homeworks and continue preparing for the next cohort. I guess you can also start working on your final capstone project.\\\\\", \\\\\"section\\\\\": \\\\\"General course-related questions\\\\\", \\\\\"question\\\\\": \\\\\"Course - Can I follow the course after it finishes?\\\\\", \\\\\"course\\\\\": \\\\\"data-engineering-zoomcamp\\\\\"}, {\\\\\"text\\\\\": \\\\\"The purpose of this document is to capture frequently asked technical questions\\\\\\\\nThe exact day and hour of the course will be 15th Jan 2024 at 17h00. The course will start with the first  \\\\\\\\u201cOffice Hours\\'\\' live.1\\\\\\\\nSubscribe to course public Google Calendar (it works from Desktop only).\\\\\\\\nRegister before the course starts using this link.\\\\\\\\nJoin the course Telegram channel with announcements.\\\\\\\\nDon\\\\\\\\u2019t forget to register in DataTalks.Club\\'s Slack and join the channel.\\\\\", \\\\\"section\\\\\": \\\\\"General course-related questions\\\\\", \\\\\"question\\\\\": \\\\\"Course - When will the course start?\\\\\", \\\\\"course\\\\\": \\\\\"data-engineering-zoomcamp\\\\\"}, {\\\\\"text\\\\\": \\\\\"You don\\'t need it. You\\'re accepted. You can also just start learning and submitting homework without registering. It is not checked against any registered list. Registration is just to gauge interest before the start date.\\\\\", \\\\\"section\\\\\": \\\\\"General course-related questions\\\\\", \\\\\"question\\\\\": \\\\\"Course - I have registered for the Data Engineering Bootcamp. When can I expect to receive the confirmation email?\\\\\", \\\\\"course\\\\\": \\\\\"data-engineering-zoomcamp\\\\\"}]\"}', '{\"type\": \"function_call_output\", \"call_id\": \"call_N4oSprdIBzoF0e4adrR3RT9Q\", \"output\": \"[{\\\\\"text\\\\\": \\\\\"Yes, even if you don\\'t register, you\\'re still eligible to submit the homeworks.\\\\\\\\nBe aware, however, that there will be deadlines for turning in the final projects. So don\\'t leave everything for the last minute.\\\\\", \\\\\"section\\\\\": \\\\\"General course-related questions\\\\\", \\\\\"question\\\\\": \\\\\"Course - Can I still join the course after the start date?\\\\\", \\\\\"course\\\\\": \\\\\"data-engineering-zoomcamp\\\\\"}, {\\\\\"text\\\\\": \\\\\"No, you can only get a certificate if you finish the course with a \\\\\\\\u201clive\\\\\\\\u201d cohort. We don\\'t award certificates for the self-paced mode. The reason is you need to peer-review capstone(s) after submitting a project. You can only peer-review projects at the time the course is running.\\\\\", \\\\\"section\\\\\": \\\\\"General course-related questions\\\\\", \\\\\"question\\\\\": \\\\\"Certificate - Can I follow the course in a self-paced mode and get a certificate?\\\\\", \\\\\"course\\\\\": \\\\\"data-engineering-zoomcamp\\\\\"}, {\\\\\"text\\\\\": \\\\\"Yes, we will keep all the materials after the course finishes, so you can follow the course at your own pace after it finishes.\\\\\\\\nYou can also continue looking at the homeworks and continue preparing for the next cohort. I guess you can also start working on your final capstone project.\\\\\", \\\\\"section\\\\\": \\\\\"General course-related questions\\\\\", \\\\\"question\\\\\": \\\\\"Course - Can I follow the course after it finishes?\\\\\", \\\\\"course\\\\\": \\\\\"data-engineering-zoomcamp\\\\\"}, {\\\\\"text\\\\\": \\\\\"The purpose of this document is to capture frequently asked technical questions\\\\\\\\nThe exact day and hour of the course will be 15th Jan 2024 at 17h00. The course will start with the first  \\\\\\\\u201cOffice Hours\\'\\' live.1\\\\\\\\nSubscribe to course public Google Calendar (it works from Desktop only).\\\\\\\\nRegister before the course starts using this link.\\\\\\\\nJoin the course Telegram channel with announcements.\\\\\\\\nDon\\\\\\\\u2019t forget to register in DataTalks.Club\\'s Slack and join the channel.\\\\\", \\\\\"section\\\\\": \\\\\"General course-related questions\\\\\", \\\\\"question\\\\\": \\\\\"Course - When will the course start?\\\\\", \\\\\"course\\\\\": \\\\\"data-engineering-zoomcamp\\\\\"}, {\\\\\"text\\\\\": \\\\\"You don\\'t need it. You\\'re accepted. You can also just start learning and submitting homework without registering. It is not checked against any registered list. Registration is just to gauge interest before the start date.\\\\\", \\\\\"section\\\\\": \\\\\"General course-related questions\\\\\", \\\\\"question\\\\\": \\\\\"Course - I have registered for the Data Engineering Bootcamp. When can I expect to receive the confirmation email?\\\\\", \\\\\"course\\\\\": \\\\\"data-engineering-zoomcamp\\\\\"}]\"}', '{\"type\": \"function_call_output\", \"call_id\": \"call_N4oSprdIBzoF0e4adrR3RT9Q\", \"output\": \"[{\\\\\"text\\\\\": \\\\\"Yes, even if you don\\'t register, you\\'re still eligible to submit the homeworks.\\\\\\\\nBe aware, however, that there will be deadlines for turning in the final projects. So don\\'t leave everything for the last minute.\\\\\", \\\\\"section\\\\\": \\\\\"General course-related questions\\\\\", \\\\\"question\\\\\": \\\\\"Course - Can I still join the course after the start date?\\\\\", \\\\\"course\\\\\": \\\\\"data-engineering-zoomcamp\\\\\"}, {\\\\\"text\\\\\": \\\\\"No, you can only get a certificate if you finish the course with a \\\\\\\\u201clive\\\\\\\\u201d cohort. We don\\'t award certificates for the self-paced mode. The reason is you need to peer-review capstone(s) after submitting a project. You can only peer-review projects at the time the course is running.\\\\\", \\\\\"section\\\\\": \\\\\"General course-related questions\\\\\", \\\\\"question\\\\\": \\\\\"Certificate - Can I follow the course in a self-paced mode and get a certificate?\\\\\", \\\\\"course\\\\\": \\\\\"data-engineering-zoomcamp\\\\\"}, {\\\\\"text\\\\\": \\\\\"Yes, we will keep all the materials after the course finishes, so you can follow the course at your own pace after it finishes.\\\\\\\\nYou can also continue looking at the homeworks and continue preparing for the next cohort. I guess you can also start working on your final capstone project.\\\\\", \\\\\"section\\\\\": \\\\\"General course-related questions\\\\\", \\\\\"question\\\\\": \\\\\"Course - Can I follow the course after it finishes?\\\\\", \\\\\"course\\\\\": \\\\\"data-engineering-zoomcamp\\\\\"}, {\\\\\"text\\\\\": \\\\\"The purpose of this document is to capture frequently asked technical questions\\\\\\\\nThe exact day and hour of the course will be 15th Jan 2024 at 17h00. The course will start with the first  \\\\\\\\u201cOffice Hours\\'\\' live.1\\\\\\\\nSubscribe to course public Google Calendar (it works from Desktop only).\\\\\\\\nRegister before the course starts using this link.\\\\\\\\nJoin the course Telegram channel with announcements.\\\\\\\\nDon\\\\\\\\u2019t forget to register in DataTalks.Club\\'s Slack and join the channel.\\\\\", \\\\\"section\\\\\": \\\\\"General course-related questions\\\\\", \\\\\"question\\\\\": \\\\\"Course - When will the course start?\\\\\", \\\\\"course\\\\\": \\\\\"data-engineering-zoomcamp\\\\\"}, {\\\\\"text\\\\\": \\\\\"You don\\'t need it. You\\'re accepted. You can also just start learning and submitting homework without registering. It is not checked against any registered list. Registration is just to gauge interest before the start date.\\\\\", \\\\\"section\\\\\": \\\\\"General course-related questions\\\\\", \\\\\"question\\\\\": \\\\\"Course - I have registered for the Data Engineering Bootcamp. When can I expect to receive the confirmation email?\\\\\", \\\\\"course\\\\\": \\\\\"data-engineering-zoomcamp\\\\\"}]\"}', '{\"type\": \"function_call_output\", \"call_id\": \"call_N4oSprdIBzoF0e4adrR3RT9Q\", \"output\": \"[{\\\\\"text\\\\\": \\\\\"Yes, even if you don\\'t register, you\\'re still eligible to submit the homeworks.\\\\\\\\nBe aware, however, that there will be deadlines for turning in the final projects. So don\\'t leave everything for the last minute.\\\\\", \\\\\"section\\\\\": \\\\\"General course-related questions\\\\\", \\\\\"question\\\\\": \\\\\"Course - Can I still join the course after the start date?\\\\\", \\\\\"course\\\\\": \\\\\"data-engineering-zoomcamp\\\\\"}, {\\\\\"text\\\\\": \\\\\"No, you can only get a certificate if you finish the course with a \\\\\\\\u201clive\\\\\\\\u201d cohort. We don\\'t award certificates for the self-paced mode. The reason is you need to peer-review capstone(s) after submitting a project. You can only peer-review projects at the time the course is running.\\\\\", \\\\\"section\\\\\": \\\\\"General course-related questions\\\\\", \\\\\"question\\\\\": \\\\\"Certificate - Can I follow the course in a self-paced mode and get a certificate?\\\\\", \\\\\"course\\\\\": \\\\\"data-engineering-zoomcamp\\\\\"}, {\\\\\"text\\\\\": \\\\\"Yes, we will keep all the materials after the course finishes, so you can follow the course at your own pace after it finishes.\\\\\\\\nYou can also continue looking at the homeworks and continue preparing for the next cohort. I guess you can also start working on your final capstone project.\\\\\", \\\\\"section\\\\\": \\\\\"General course-related questions\\\\\", \\\\\"question\\\\\": \\\\\"Course - Can I follow the course after it finishes?\\\\\", \\\\\"course\\\\\": \\\\\"data-engineering-zoomcamp\\\\\"}, {\\\\\"text\\\\\": \\\\\"The purpose of this document is to capture frequently asked technical questions\\\\\\\\nThe exact day and hour of the course will be 15th Jan 2024 at 17h00. The course will start with the first  \\\\\\\\u201cOffice Hours\\'\\' live.1\\\\\\\\nSubscribe to course public Google Calendar (it works from Desktop only).\\\\\\\\nRegister before the course starts using this link.\\\\\\\\nJoin the course Telegram channel with announcements.\\\\\\\\nDon\\\\\\\\u2019t forget to register in DataTalks.Club\\'s Slack and join the channel.\\\\\", \\\\\"section\\\\\": \\\\\"General course-related questions\\\\\", \\\\\"question\\\\\": \\\\\"Course - When will the course start?\\\\\", \\\\\"course\\\\\": \\\\\"data-engineering-zoomcamp\\\\\"}, {\\\\\"text\\\\\": \\\\\"You don\\'t need it. You\\'re accepted. You can also just start learning and submitting homework without registering. It is not checked against any registered list. Registration is just to gauge interest before the start date.\\\\\", \\\\\"section\\\\\": \\\\\"General course-related questions\\\\\", \\\\\"question\\\\\": \\\\\"Course - I have registered for the Data Engineering Bootcamp. When can I expect to receive the confirmation email?\\\\\", \\\\\"course\\\\\": \\\\\"data-engineering-zoomcamp\\\\\"}]\"}', '\"{\\\\\"type\\\\\": \\\\\"function_call_output\\\\\", \\\\\"call_id\\\\\": \\\\\"call_N4oSprdIBzoF0e4adrR3RT9Q\\\\\", \\\\\"output\\\\\": \\\\\"[{\\\\\\\\\\\\\"text\\\\\\\\\\\\\": \\\\\\\\\\\\\"Yes, even if you don\\'t register, you\\'re still eligible to submit the homeworks.\\\\\\\\\\\\\\\\nBe aware, however, that there will be deadlines for turning in the final projects. So don\\'t leave everything for the last minute.\\\\\\\\\\\\\", \\\\\\\\\\\\\"section\\\\\\\\\\\\\": \\\\\\\\\\\\\"General course-related questions\\\\\\\\\\\\\", \\\\\\\\\\\\\"question\\\\\\\\\\\\\": \\\\\\\\\\\\\"Course - Can I still join the course after the start date?\\\\\\\\\\\\\", \\\\\\\\\\\\\"course\\\\\\\\\\\\\": \\\\\\\\\\\\\"data-engineering-zoomcamp\\\\\\\\\\\\\"}, {\\\\\\\\\\\\\"text\\\\\\\\\\\\\": \\\\\\\\\\\\\"No, you can only get a certificate if you finish the course with a \\\\\\\\\\\\\\\\u201clive\\\\\\\\\\\\\\\\u201d cohort. We don\\'t award certificates for the self-paced mode. The reason is you need to peer-review capstone(s) after submitting a project. You can only peer-review projects at the time the course is running.\\\\\\\\\\\\\", \\\\\\\\\\\\\"section\\\\\\\\\\\\\": \\\\\\\\\\\\\"General course-related questions\\\\\\\\\\\\\", \\\\\\\\\\\\\"question\\\\\\\\\\\\\": \\\\\\\\\\\\\"Certificate - Can I follow the course in a self-paced mode and get a certificate?\\\\\\\\\\\\\", \\\\\\\\\\\\\"course\\\\\\\\\\\\\": \\\\\\\\\\\\\"data-engineering-zoomcamp\\\\\\\\\\\\\"}, {\\\\\\\\\\\\\"text\\\\\\\\\\\\\": \\\\\\\\\\\\\"Yes, we will keep all the materials after the course finishes, so you can follow the course at your own pace after it finishes.\\\\\\\\\\\\\\\\nYou can also continue looking at the homeworks and continue preparing for the next cohort. I guess you can also start working on your final capstone project.\\\\\\\\\\\\\", \\\\\\\\\\\\\"section\\\\\\\\\\\\\": \\\\\\\\\\\\\"General course-related questions\\\\\\\\\\\\\", \\\\\\\\\\\\\"question\\\\\\\\\\\\\": \\\\\\\\\\\\\"Course - Can I follow the course after it finishes?\\\\\\\\\\\\\", \\\\\\\\\\\\\"course\\\\\\\\\\\\\": \\\\\\\\\\\\\"data-engineering-zoomcamp\\\\\\\\\\\\\"}, {\\\\\\\\\\\\\"text\\\\\\\\\\\\\": \\\\\\\\\\\\\"The purpose of this document is to capture frequently asked technical questions\\\\\\\\\\\\\\\\nThe exact day and hour of the course will be 15th Jan 2024 at 17h00. The course will start with the first  \\\\\\\\\\\\\\\\u201cOffice Hours\\'\\' live.1\\\\\\\\\\\\\\\\nSubscribe to course public Google Calendar (it works from Desktop only).\\\\\\\\\\\\\\\\nRegister before the course starts using this link.\\\\\\\\\\\\\\\\nJoin the course Telegram channel with announcements.\\\\\\\\\\\\\\\\nDon\\\\\\\\\\\\\\\\u2019t forget to register in DataTalks.Club\\'s Slack and join the channel.\\\\\\\\\\\\\", \\\\\\\\\\\\\"section\\\\\\\\\\\\\": \\\\\\\\\\\\\"General course-related questions\\\\\\\\\\\\\", \\\\\\\\\\\\\"question\\\\\\\\\\\\\": \\\\\\\\\\\\\"Course - When will the course start?\\\\\\\\\\\\\", \\\\\\\\\\\\\"course\\\\\\\\\\\\\": \\\\\\\\\\\\\"data-engineering-zoomcamp\\\\\\\\\\\\\"}, {\\\\\\\\\\\\\"text\\\\\\\\\\\\\": \\\\\\\\\\\\\"You don\\'t need it. You\\'re accepted. You can also just start learning and submitting homework without registering. It is not checked against any registered list. Registration is just to gauge interest before the start date.\\\\\\\\\\\\\", \\\\\\\\\\\\\"section\\\\\\\\\\\\\": \\\\\\\\\\\\\"General course-related questions\\\\\\\\\\\\\", \\\\\\\\\\\\\"question\\\\\\\\\\\\\": \\\\\\\\\\\\\"Course - I have registered for the Data Engineering Bootcamp. When can I expect to receive the confirmation email?\\\\\\\\\\\\\", \\\\\\\\\\\\\"course\\\\\\\\\\\\\": \\\\\\\\\\\\\"data-engineering-zoomcamp\\\\\\\\\\\\\"}]\\\\\"}\"']\n",
      "[{'type': 'function', 'name': 'search', 'description': 'Search the FAQ database', 'parameters': {'type': 'object', 'properties': {'query': {'type': 'string', 'description': 'Search query text to look up in the course FAQ.'}}, 'required': ['query'], 'additionalProperties': False}}]\n"
     ]
    },
    {
     "ename": "BadRequestError",
     "evalue": "Error code: 400 - {'error': {'message': \"Invalid type for 'input[2]': expected an input item, but got a string instead.\", 'type': 'invalid_request_error', 'param': 'input[2]', 'code': 'invalid_type'}}",
     "output_type": "error",
     "traceback": [
      "\u001B[31m---------------------------------------------------------------------------\u001B[39m",
      "\u001B[31mBadRequestError\u001B[39m                           Traceback (most recent call last)",
      "\u001B[36mCell\u001B[39m\u001B[36m \u001B[39m\u001B[32mIn[37]\u001B[39m\u001B[32m, line 6\u001B[39m\n\u001B[32m      3\u001B[39m \u001B[38;5;28mprint\u001B[39m(chat_messages)\n\u001B[32m      4\u001B[39m \u001B[38;5;28mprint\u001B[39m(tools)\n\u001B[32m----> \u001B[39m\u001B[32m6\u001B[39m response_with_tool_output = \u001B[43mopenai_client\u001B[49m\u001B[43m.\u001B[49m\u001B[43mresponses\u001B[49m\u001B[43m.\u001B[49m\u001B[43mcreate\u001B[49m\u001B[43m(\u001B[49m\n\u001B[32m      7\u001B[39m \u001B[43m    \u001B[49m\u001B[43mmodel\u001B[49m\u001B[43m=\u001B[49m\u001B[33;43m'\u001B[39;49m\u001B[33;43mgpt-4o-mini\u001B[39;49m\u001B[33;43m'\u001B[39;49m\u001B[43m,\u001B[49m\n\u001B[32m      8\u001B[39m \u001B[43m    \u001B[49m\u001B[38;5;28;43minput\u001B[39;49m\u001B[43m=\u001B[49m\u001B[43mchat_messages\u001B[49m\u001B[43m,\u001B[49m\n\u001B[32m      9\u001B[39m \u001B[43m    \u001B[49m\u001B[43mtools\u001B[49m\u001B[43m=\u001B[49m\u001B[43mtools\u001B[49m\n\u001B[32m     10\u001B[39m \u001B[43m)\u001B[49m\n",
      "\u001B[36mFile \u001B[39m\u001B[32m~/Agents/ai-bootcamp-rag-to-agents/.venv/lib/python3.12/site-packages/openai/resources/responses/responses.py:828\u001B[39m, in \u001B[36mResponses.create\u001B[39m\u001B[34m(self, background, conversation, include, input, instructions, max_output_tokens, max_tool_calls, metadata, model, parallel_tool_calls, previous_response_id, prompt, prompt_cache_key, reasoning, safety_identifier, service_tier, store, stream, stream_options, temperature, text, tool_choice, tools, top_logprobs, top_p, truncation, user, extra_headers, extra_query, extra_body, timeout)\u001B[39m\n\u001B[32m    791\u001B[39m \u001B[38;5;28;01mdef\u001B[39;00m\u001B[38;5;250m \u001B[39m\u001B[34mcreate\u001B[39m(\n\u001B[32m    792\u001B[39m     \u001B[38;5;28mself\u001B[39m,\n\u001B[32m    793\u001B[39m     *,\n\u001B[32m   (...)\u001B[39m\u001B[32m    826\u001B[39m     timeout: \u001B[38;5;28mfloat\u001B[39m | httpx.Timeout | \u001B[38;5;28;01mNone\u001B[39;00m | NotGiven = not_given,\n\u001B[32m    827\u001B[39m ) -> Response | Stream[ResponseStreamEvent]:\n\u001B[32m--> \u001B[39m\u001B[32m828\u001B[39m     \u001B[38;5;28;01mreturn\u001B[39;00m \u001B[38;5;28;43mself\u001B[39;49m\u001B[43m.\u001B[49m\u001B[43m_post\u001B[49m\u001B[43m(\u001B[49m\n\u001B[32m    829\u001B[39m \u001B[43m        \u001B[49m\u001B[33;43m\"\u001B[39;49m\u001B[33;43m/responses\u001B[39;49m\u001B[33;43m\"\u001B[39;49m\u001B[43m,\u001B[49m\n\u001B[32m    830\u001B[39m \u001B[43m        \u001B[49m\u001B[43mbody\u001B[49m\u001B[43m=\u001B[49m\u001B[43mmaybe_transform\u001B[49m\u001B[43m(\u001B[49m\n\u001B[32m    831\u001B[39m \u001B[43m            \u001B[49m\u001B[43m{\u001B[49m\n\u001B[32m    832\u001B[39m \u001B[43m                \u001B[49m\u001B[33;43m\"\u001B[39;49m\u001B[33;43mbackground\u001B[39;49m\u001B[33;43m\"\u001B[39;49m\u001B[43m:\u001B[49m\u001B[43m \u001B[49m\u001B[43mbackground\u001B[49m\u001B[43m,\u001B[49m\n\u001B[32m    833\u001B[39m \u001B[43m                \u001B[49m\u001B[33;43m\"\u001B[39;49m\u001B[33;43mconversation\u001B[39;49m\u001B[33;43m\"\u001B[39;49m\u001B[43m:\u001B[49m\u001B[43m \u001B[49m\u001B[43mconversation\u001B[49m\u001B[43m,\u001B[49m\n\u001B[32m    834\u001B[39m \u001B[43m                \u001B[49m\u001B[33;43m\"\u001B[39;49m\u001B[33;43minclude\u001B[39;49m\u001B[33;43m\"\u001B[39;49m\u001B[43m:\u001B[49m\u001B[43m \u001B[49m\u001B[43minclude\u001B[49m\u001B[43m,\u001B[49m\n\u001B[32m    835\u001B[39m \u001B[43m                \u001B[49m\u001B[33;43m\"\u001B[39;49m\u001B[33;43minput\u001B[39;49m\u001B[33;43m\"\u001B[39;49m\u001B[43m:\u001B[49m\u001B[43m \u001B[49m\u001B[38;5;28;43minput\u001B[39;49m\u001B[43m,\u001B[49m\n\u001B[32m    836\u001B[39m \u001B[43m                \u001B[49m\u001B[33;43m\"\u001B[39;49m\u001B[33;43minstructions\u001B[39;49m\u001B[33;43m\"\u001B[39;49m\u001B[43m:\u001B[49m\u001B[43m \u001B[49m\u001B[43minstructions\u001B[49m\u001B[43m,\u001B[49m\n\u001B[32m    837\u001B[39m \u001B[43m                \u001B[49m\u001B[33;43m\"\u001B[39;49m\u001B[33;43mmax_output_tokens\u001B[39;49m\u001B[33;43m\"\u001B[39;49m\u001B[43m:\u001B[49m\u001B[43m \u001B[49m\u001B[43mmax_output_tokens\u001B[49m\u001B[43m,\u001B[49m\n\u001B[32m    838\u001B[39m \u001B[43m                \u001B[49m\u001B[33;43m\"\u001B[39;49m\u001B[33;43mmax_tool_calls\u001B[39;49m\u001B[33;43m\"\u001B[39;49m\u001B[43m:\u001B[49m\u001B[43m \u001B[49m\u001B[43mmax_tool_calls\u001B[49m\u001B[43m,\u001B[49m\n\u001B[32m    839\u001B[39m \u001B[43m                \u001B[49m\u001B[33;43m\"\u001B[39;49m\u001B[33;43mmetadata\u001B[39;49m\u001B[33;43m\"\u001B[39;49m\u001B[43m:\u001B[49m\u001B[43m \u001B[49m\u001B[43mmetadata\u001B[49m\u001B[43m,\u001B[49m\n\u001B[32m    840\u001B[39m \u001B[43m                \u001B[49m\u001B[33;43m\"\u001B[39;49m\u001B[33;43mmodel\u001B[39;49m\u001B[33;43m\"\u001B[39;49m\u001B[43m:\u001B[49m\u001B[43m \u001B[49m\u001B[43mmodel\u001B[49m\u001B[43m,\u001B[49m\n\u001B[32m    841\u001B[39m \u001B[43m                \u001B[49m\u001B[33;43m\"\u001B[39;49m\u001B[33;43mparallel_tool_calls\u001B[39;49m\u001B[33;43m\"\u001B[39;49m\u001B[43m:\u001B[49m\u001B[43m \u001B[49m\u001B[43mparallel_tool_calls\u001B[49m\u001B[43m,\u001B[49m\n\u001B[32m    842\u001B[39m \u001B[43m                \u001B[49m\u001B[33;43m\"\u001B[39;49m\u001B[33;43mprevious_response_id\u001B[39;49m\u001B[33;43m\"\u001B[39;49m\u001B[43m:\u001B[49m\u001B[43m \u001B[49m\u001B[43mprevious_response_id\u001B[49m\u001B[43m,\u001B[49m\n\u001B[32m    843\u001B[39m \u001B[43m                \u001B[49m\u001B[33;43m\"\u001B[39;49m\u001B[33;43mprompt\u001B[39;49m\u001B[33;43m\"\u001B[39;49m\u001B[43m:\u001B[49m\u001B[43m \u001B[49m\u001B[43mprompt\u001B[49m\u001B[43m,\u001B[49m\n\u001B[32m    844\u001B[39m \u001B[43m                \u001B[49m\u001B[33;43m\"\u001B[39;49m\u001B[33;43mprompt_cache_key\u001B[39;49m\u001B[33;43m\"\u001B[39;49m\u001B[43m:\u001B[49m\u001B[43m \u001B[49m\u001B[43mprompt_cache_key\u001B[49m\u001B[43m,\u001B[49m\n\u001B[32m    845\u001B[39m \u001B[43m                \u001B[49m\u001B[33;43m\"\u001B[39;49m\u001B[33;43mreasoning\u001B[39;49m\u001B[33;43m\"\u001B[39;49m\u001B[43m:\u001B[49m\u001B[43m \u001B[49m\u001B[43mreasoning\u001B[49m\u001B[43m,\u001B[49m\n\u001B[32m    846\u001B[39m \u001B[43m                \u001B[49m\u001B[33;43m\"\u001B[39;49m\u001B[33;43msafety_identifier\u001B[39;49m\u001B[33;43m\"\u001B[39;49m\u001B[43m:\u001B[49m\u001B[43m \u001B[49m\u001B[43msafety_identifier\u001B[49m\u001B[43m,\u001B[49m\n\u001B[32m    847\u001B[39m \u001B[43m                \u001B[49m\u001B[33;43m\"\u001B[39;49m\u001B[33;43mservice_tier\u001B[39;49m\u001B[33;43m\"\u001B[39;49m\u001B[43m:\u001B[49m\u001B[43m \u001B[49m\u001B[43mservice_tier\u001B[49m\u001B[43m,\u001B[49m\n\u001B[32m    848\u001B[39m \u001B[43m                \u001B[49m\u001B[33;43m\"\u001B[39;49m\u001B[33;43mstore\u001B[39;49m\u001B[33;43m\"\u001B[39;49m\u001B[43m:\u001B[49m\u001B[43m \u001B[49m\u001B[43mstore\u001B[49m\u001B[43m,\u001B[49m\n\u001B[32m    849\u001B[39m \u001B[43m                \u001B[49m\u001B[33;43m\"\u001B[39;49m\u001B[33;43mstream\u001B[39;49m\u001B[33;43m\"\u001B[39;49m\u001B[43m:\u001B[49m\u001B[43m \u001B[49m\u001B[43mstream\u001B[49m\u001B[43m,\u001B[49m\n\u001B[32m    850\u001B[39m \u001B[43m                \u001B[49m\u001B[33;43m\"\u001B[39;49m\u001B[33;43mstream_options\u001B[39;49m\u001B[33;43m\"\u001B[39;49m\u001B[43m:\u001B[49m\u001B[43m \u001B[49m\u001B[43mstream_options\u001B[49m\u001B[43m,\u001B[49m\n\u001B[32m    851\u001B[39m \u001B[43m                \u001B[49m\u001B[33;43m\"\u001B[39;49m\u001B[33;43mtemperature\u001B[39;49m\u001B[33;43m\"\u001B[39;49m\u001B[43m:\u001B[49m\u001B[43m \u001B[49m\u001B[43mtemperature\u001B[49m\u001B[43m,\u001B[49m\n\u001B[32m    852\u001B[39m \u001B[43m                \u001B[49m\u001B[33;43m\"\u001B[39;49m\u001B[33;43mtext\u001B[39;49m\u001B[33;43m\"\u001B[39;49m\u001B[43m:\u001B[49m\u001B[43m \u001B[49m\u001B[43mtext\u001B[49m\u001B[43m,\u001B[49m\n\u001B[32m    853\u001B[39m \u001B[43m                \u001B[49m\u001B[33;43m\"\u001B[39;49m\u001B[33;43mtool_choice\u001B[39;49m\u001B[33;43m\"\u001B[39;49m\u001B[43m:\u001B[49m\u001B[43m \u001B[49m\u001B[43mtool_choice\u001B[49m\u001B[43m,\u001B[49m\n\u001B[32m    854\u001B[39m \u001B[43m                \u001B[49m\u001B[33;43m\"\u001B[39;49m\u001B[33;43mtools\u001B[39;49m\u001B[33;43m\"\u001B[39;49m\u001B[43m:\u001B[49m\u001B[43m \u001B[49m\u001B[43mtools\u001B[49m\u001B[43m,\u001B[49m\n\u001B[32m    855\u001B[39m \u001B[43m                \u001B[49m\u001B[33;43m\"\u001B[39;49m\u001B[33;43mtop_logprobs\u001B[39;49m\u001B[33;43m\"\u001B[39;49m\u001B[43m:\u001B[49m\u001B[43m \u001B[49m\u001B[43mtop_logprobs\u001B[49m\u001B[43m,\u001B[49m\n\u001B[32m    856\u001B[39m \u001B[43m                \u001B[49m\u001B[33;43m\"\u001B[39;49m\u001B[33;43mtop_p\u001B[39;49m\u001B[33;43m\"\u001B[39;49m\u001B[43m:\u001B[49m\u001B[43m \u001B[49m\u001B[43mtop_p\u001B[49m\u001B[43m,\u001B[49m\n\u001B[32m    857\u001B[39m \u001B[43m                \u001B[49m\u001B[33;43m\"\u001B[39;49m\u001B[33;43mtruncation\u001B[39;49m\u001B[33;43m\"\u001B[39;49m\u001B[43m:\u001B[49m\u001B[43m \u001B[49m\u001B[43mtruncation\u001B[49m\u001B[43m,\u001B[49m\n\u001B[32m    858\u001B[39m \u001B[43m                \u001B[49m\u001B[33;43m\"\u001B[39;49m\u001B[33;43muser\u001B[39;49m\u001B[33;43m\"\u001B[39;49m\u001B[43m:\u001B[49m\u001B[43m \u001B[49m\u001B[43muser\u001B[49m\u001B[43m,\u001B[49m\n\u001B[32m    859\u001B[39m \u001B[43m            \u001B[49m\u001B[43m}\u001B[49m\u001B[43m,\u001B[49m\n\u001B[32m    860\u001B[39m \u001B[43m            \u001B[49m\u001B[43mresponse_create_params\u001B[49m\u001B[43m.\u001B[49m\u001B[43mResponseCreateParamsStreaming\u001B[49m\n\u001B[32m    861\u001B[39m \u001B[43m            \u001B[49m\u001B[38;5;28;43;01mif\u001B[39;49;00m\u001B[43m \u001B[49m\u001B[43mstream\u001B[49m\n\u001B[32m    862\u001B[39m \u001B[43m            \u001B[49m\u001B[38;5;28;43;01melse\u001B[39;49;00m\u001B[43m \u001B[49m\u001B[43mresponse_create_params\u001B[49m\u001B[43m.\u001B[49m\u001B[43mResponseCreateParamsNonStreaming\u001B[49m\u001B[43m,\u001B[49m\n\u001B[32m    863\u001B[39m \u001B[43m        \u001B[49m\u001B[43m)\u001B[49m\u001B[43m,\u001B[49m\n\u001B[32m    864\u001B[39m \u001B[43m        \u001B[49m\u001B[43moptions\u001B[49m\u001B[43m=\u001B[49m\u001B[43mmake_request_options\u001B[49m\u001B[43m(\u001B[49m\n\u001B[32m    865\u001B[39m \u001B[43m            \u001B[49m\u001B[43mextra_headers\u001B[49m\u001B[43m=\u001B[49m\u001B[43mextra_headers\u001B[49m\u001B[43m,\u001B[49m\u001B[43m \u001B[49m\u001B[43mextra_query\u001B[49m\u001B[43m=\u001B[49m\u001B[43mextra_query\u001B[49m\u001B[43m,\u001B[49m\u001B[43m \u001B[49m\u001B[43mextra_body\u001B[49m\u001B[43m=\u001B[49m\u001B[43mextra_body\u001B[49m\u001B[43m,\u001B[49m\u001B[43m \u001B[49m\u001B[43mtimeout\u001B[49m\u001B[43m=\u001B[49m\u001B[43mtimeout\u001B[49m\n\u001B[32m    866\u001B[39m \u001B[43m        \u001B[49m\u001B[43m)\u001B[49m\u001B[43m,\u001B[49m\n\u001B[32m    867\u001B[39m \u001B[43m        \u001B[49m\u001B[43mcast_to\u001B[49m\u001B[43m=\u001B[49m\u001B[43mResponse\u001B[49m\u001B[43m,\u001B[49m\n\u001B[32m    868\u001B[39m \u001B[43m        \u001B[49m\u001B[43mstream\u001B[49m\u001B[43m=\u001B[49m\u001B[43mstream\u001B[49m\u001B[43m \u001B[49m\u001B[38;5;129;43;01mor\u001B[39;49;00m\u001B[43m \u001B[49m\u001B[38;5;28;43;01mFalse\u001B[39;49;00m\u001B[43m,\u001B[49m\n\u001B[32m    869\u001B[39m \u001B[43m        \u001B[49m\u001B[43mstream_cls\u001B[49m\u001B[43m=\u001B[49m\u001B[43mStream\u001B[49m\u001B[43m[\u001B[49m\u001B[43mResponseStreamEvent\u001B[49m\u001B[43m]\u001B[49m\u001B[43m,\u001B[49m\n\u001B[32m    870\u001B[39m \u001B[43m    \u001B[49m\u001B[43m)\u001B[49m\n",
      "\u001B[36mFile \u001B[39m\u001B[32m~/Agents/ai-bootcamp-rag-to-agents/.venv/lib/python3.12/site-packages/openai/_base_client.py:1259\u001B[39m, in \u001B[36mSyncAPIClient.post\u001B[39m\u001B[34m(self, path, cast_to, body, options, files, stream, stream_cls)\u001B[39m\n\u001B[32m   1245\u001B[39m \u001B[38;5;28;01mdef\u001B[39;00m\u001B[38;5;250m \u001B[39m\u001B[34mpost\u001B[39m(\n\u001B[32m   1246\u001B[39m     \u001B[38;5;28mself\u001B[39m,\n\u001B[32m   1247\u001B[39m     path: \u001B[38;5;28mstr\u001B[39m,\n\u001B[32m   (...)\u001B[39m\u001B[32m   1254\u001B[39m     stream_cls: \u001B[38;5;28mtype\u001B[39m[_StreamT] | \u001B[38;5;28;01mNone\u001B[39;00m = \u001B[38;5;28;01mNone\u001B[39;00m,\n\u001B[32m   1255\u001B[39m ) -> ResponseT | _StreamT:\n\u001B[32m   1256\u001B[39m     opts = FinalRequestOptions.construct(\n\u001B[32m   1257\u001B[39m         method=\u001B[33m\"\u001B[39m\u001B[33mpost\u001B[39m\u001B[33m\"\u001B[39m, url=path, json_data=body, files=to_httpx_files(files), **options\n\u001B[32m   1258\u001B[39m     )\n\u001B[32m-> \u001B[39m\u001B[32m1259\u001B[39m     \u001B[38;5;28;01mreturn\u001B[39;00m cast(ResponseT, \u001B[38;5;28;43mself\u001B[39;49m\u001B[43m.\u001B[49m\u001B[43mrequest\u001B[49m\u001B[43m(\u001B[49m\u001B[43mcast_to\u001B[49m\u001B[43m,\u001B[49m\u001B[43m \u001B[49m\u001B[43mopts\u001B[49m\u001B[43m,\u001B[49m\u001B[43m \u001B[49m\u001B[43mstream\u001B[49m\u001B[43m=\u001B[49m\u001B[43mstream\u001B[49m\u001B[43m,\u001B[49m\u001B[43m \u001B[49m\u001B[43mstream_cls\u001B[49m\u001B[43m=\u001B[49m\u001B[43mstream_cls\u001B[49m\u001B[43m)\u001B[49m)\n",
      "\u001B[36mFile \u001B[39m\u001B[32m~/Agents/ai-bootcamp-rag-to-agents/.venv/lib/python3.12/site-packages/openai/_base_client.py:1047\u001B[39m, in \u001B[36mSyncAPIClient.request\u001B[39m\u001B[34m(self, cast_to, options, stream, stream_cls)\u001B[39m\n\u001B[32m   1044\u001B[39m             err.response.read()\n\u001B[32m   1046\u001B[39m         log.debug(\u001B[33m\"\u001B[39m\u001B[33mRe-raising status error\u001B[39m\u001B[33m\"\u001B[39m)\n\u001B[32m-> \u001B[39m\u001B[32m1047\u001B[39m         \u001B[38;5;28;01mraise\u001B[39;00m \u001B[38;5;28mself\u001B[39m._make_status_error_from_response(err.response) \u001B[38;5;28;01mfrom\u001B[39;00m\u001B[38;5;250m \u001B[39m\u001B[38;5;28;01mNone\u001B[39;00m\n\u001B[32m   1049\u001B[39m     \u001B[38;5;28;01mbreak\u001B[39;00m\n\u001B[32m   1051\u001B[39m \u001B[38;5;28;01massert\u001B[39;00m response \u001B[38;5;129;01mis\u001B[39;00m \u001B[38;5;129;01mnot\u001B[39;00m \u001B[38;5;28;01mNone\u001B[39;00m, \u001B[33m\"\u001B[39m\u001B[33mcould not resolve response (should never happen)\u001B[39m\u001B[33m\"\u001B[39m\n",
      "\u001B[31mBadRequestError\u001B[39m: Error code: 400 - {'error': {'message': \"Invalid type for 'input[2]': expected an input item, but got a string instead.\", 'type': 'invalid_request_error', 'param': 'input[2]', 'code': 'invalid_type'}}"
     ]
    }
   ],
   "execution_count": 37
  },
  {
   "metadata": {},
   "cell_type": "code",
   "outputs": [],
   "execution_count": null,
   "source": "response_with_tool_oupput.response",
   "id": "db48888652caab11"
  }
 ],
 "metadata": {
  "kernelspec": {
   "display_name": "Python 3",
   "language": "python",
   "name": "python3"
  },
  "language_info": {
   "codemirror_mode": {
    "name": "ipython",
    "version": 2
   },
   "file_extension": ".py",
   "mimetype": "text/x-python",
   "name": "python",
   "nbconvert_exporter": "python",
   "pygments_lexer": "ipython2",
   "version": "2.7.6"
  }
 },
 "nbformat": 4,
 "nbformat_minor": 5
}
