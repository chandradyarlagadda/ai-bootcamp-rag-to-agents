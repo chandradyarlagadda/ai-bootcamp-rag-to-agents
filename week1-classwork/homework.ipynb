{
 "cells": [
  {
   "cell_type": "code",
   "id": "initial_id",
   "metadata": {
    "collapsed": true,
    "ExecuteTime": {
     "end_time": "2025-10-13T14:56:28.050891Z",
     "start_time": "2025-10-13T14:56:27.639427Z"
    }
   },
   "source": [
    "import requests\n",
    "\n",
    "url = \"https://api.github.com/repos/DataTalksClub/datatalksclub.github.io/contents/_podcast\"\n",
    "response = requests.get(url)\n",
    "md_files = [file['name'] for file in response.json()\n",
    "           if file['name'].endswith('.md') and file['name'] != '_templates.md']\n",
    "print(len(md_files))"
   ],
   "outputs": [
    {
     "name": "stdout",
     "output_type": "stream",
     "text": [
      "185\n"
     ]
    }
   ],
   "execution_count": 7
  },
  {
   "metadata": {},
   "cell_type": "code",
   "outputs": [],
   "execution_count": null,
   "source": "",
   "id": "8b1b40d94574a6d7"
  }
 ],
 "metadata": {
  "kernelspec": {
   "display_name": "Python 3",
   "language": "python",
   "name": "python3"
  },
  "language_info": {
   "codemirror_mode": {
    "name": "ipython",
    "version": 2
   },
   "file_extension": ".py",
   "mimetype": "text/x-python",
   "name": "python",
   "nbconvert_exporter": "python",
   "pygments_lexer": "ipython2",
   "version": "2.7.6"
  }
 },
 "nbformat": 4,
 "nbformat_minor": 5
}
