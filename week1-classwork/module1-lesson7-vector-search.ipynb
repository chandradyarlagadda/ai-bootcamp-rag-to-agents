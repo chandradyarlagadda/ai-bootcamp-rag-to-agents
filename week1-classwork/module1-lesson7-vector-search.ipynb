{
 "cells": [
  {
   "metadata": {
    "ExecuteTime": {
     "end_time": "2025-10-24T21:21:53.957621Z",
     "start_time": "2025-10-24T21:21:53.063050Z"
    }
   },
   "cell_type": "code",
   "source": [
    "#Read from documents\n",
    "import requests\n",
    "\n",
    "docs_url = 'https://github.com/alexeygrigorev/llm-rag-workshop/raw/main/notebooks/documents.json'\n",
    "docs_response = requests.get(docs_url)\n",
    "documents_raw = docs_response.json()\n",
    "\"\"\"\n",
    "# You are repurposing the documents_raw file\n",
    "\"course\": \"data-engineering-zoomcamp\",\n",
    "    \"documents\": [\n",
    "      {\n",
    "        \"text\": \"The purpose of this document is to capture frequently asked technical....\"\n",
    "      },\n",
    "      ]\n",
    "\n",
    "# to an documents array with the course name in it\n",
    "\n",
    "\"\"\"\n",
    "documents = []\n",
    "\n",
    "\n",
    "for record in documents_raw:\n",
    "    course_name = record['course'] # record is course and documents. We are pulling out the course name.\n",
    "    for element in record['documents']: # element is \"text\": \"The purpose of this document is to capture frequently asked technical....\"\n",
    "        element['course'] = course_name\n",
    "        documents.append(element)\n"
   ],
   "id": "11d6db7244d5e3b7",
   "outputs": [],
   "execution_count": 1
  },
  {
   "metadata": {
    "collapsed": true,
    "ExecuteTime": {
     "end_time": "2025-10-24T21:22:02.520504Z",
     "start_time": "2025-10-24T21:21:53.966078Z"
    }
   },
   "cell_type": "code",
   "source": [
    "#Vector Search is based on cosine similarity, and we need to convert the text to vectors (number representations. We need an embedding model for that)\n",
    "# Other models can be found here https://sbert.net/docs/sentence_transformer/pretrained_models.html#multi-qa-models\n",
    "# https://huggingface.co/sentence-transformers/multi-qa-distilbert-dot-v1\n",
    "# https://youtu.be/wjZofJX0v4M?si=n63ejz0XTVwufdwP&t=1005\n",
    "# note : qa stands for question-answer,\n",
    "# dot stand for dot product\n",
    "# cos stands for cosine similarity\n",
    "\n",
    "from sentence_transformers import SentenceTransformer\n",
    "embedding_model = SentenceTransformer('multi-qa-distilbert-cos-v1')"
   ],
   "id": "1ee908f05bf7772f",
   "outputs": [],
   "execution_count": 2
  },
  {
   "metadata": {
    "ExecuteTime": {
     "end_time": "2025-10-24T21:22:02.879629Z",
     "start_time": "2025-10-24T21:22:02.594476Z"
    }
   },
   "cell_type": "code",
   "source": [
    "#Understand Vectors\n",
    "docs = [\n",
    "    [\"I just discovered the course, can I still join?\"], #Q1 (Question 1)\n",
    "    [\"I just found out about this program, Can I still enroll\"], #Q2 (Question 2)\n",
    "    [\"You can join the course at any point of time\"] # D (Description)\n",
    "]\n",
    "\n",
    "vectors_example = []\n",
    "\n",
    "for d in docs:\n",
    "    v = embedding_model.encode(d)\n",
    "    vectors_example.append(v)\n",
    "\n",
    "#We now have  Question1, Question2 and Description in a vector representation.\n",
    "# We find similarity between questions and then questions with the description\n",
    "\n",
    "# Dot Products :\n",
    "# Values is positive if vector point in same directions (i.e they are similar)\n",
    "#  Value moves to zero when its perpendicular (no similarity)\n",
    "# Value moves to negative when it's more than 90 ( opposite)\n",
    "# https://youtu.be/wjZofJX0v4M?si=n63ejz0XTVwufdwP&t=1005\n",
    "\n",
    "q1, q2, d = vectors_example\n",
    "\n",
    "\n",
    "print(f\"Q1 shape : {q1.shape}\") # (1,768)\n",
    "print(f\"Q2 shape : {q2.shape}\") # (1,768)\n",
    "\n",
    "#When doing dot multiplication we need to transpose i.e 1,768 cannot dot product with 1,768 , it can only multiply with 7\n",
    "\n",
    "print(f\"Q1 shape : {q1.shape}\") # (1,768)\n",
    "print(f\"Q2 Transpose shape : {q2.T.shape}\") # (768, 1)\n",
    "\n",
    "print(f\"Q1 dot d : {q1.dot(d.T)}\") # 0.7205941(Closer to 1 and positive, good similarity between Q1 and Q2)\n",
    "\n",
    "print(f\"Q2 dot d : {q2.dot(d.T)}\") # 0.48303062 (Closer to 1 and positive, ok similarity between Q1 and D but better than text match which would have returned 0)\n",
    "\n",
    "print(f\"Q1 dot Q2 : {q1.dot(q2.T)}\") # 0.606797 (Closer to 1 and positive, good similarity between Q1 and Q2). So given a Q2 and we do a cosine vector search, we will find Q2\n"
   ],
   "id": "a8190d7983149733",
   "outputs": [
    {
     "name": "stdout",
     "output_type": "stream",
     "text": [
      "Q1 shape : (1, 768)\n",
      "Q2 shape : (1, 768)\n",
      "Q1 shape : (1, 768)\n",
      "Q2 Transpose shape : (768, 1)\n",
      "Q1 dot d : [[0.7205941]]\n",
      "Q2 dot d : [[0.48303062]]\n",
      "Q1 dot Q2 : [[0.6067974]]\n"
     ]
    }
   ],
   "execution_count": 3
  },
  {
   "metadata": {
    "ExecuteTime": {
     "end_time": "2025-10-24T21:22:14.884884Z",
     "start_time": "2025-10-24T21:22:02.884361Z"
    }
   },
   "cell_type": "code",
   "source": [
    "#Use the embedding model to create an array of vectors.\n",
    "#for that we combine the question: and text: part of the documents sections\n",
    "# This is what worked, wouldn't necessarily work for all\n",
    "# idea is given a q2 and we have the q1 and answer in the same \"string\" we can find the similar text and send it to LLM.\n",
    "\"\"\"\n",
    "[\n",
    "      {\n",
    "        \"text\": \"The purpose of this document is to capture frequently asked technical ...\",\n",
    "        \"section\": \"General course-related questions\",\n",
    "        \"question\": \"Course - When will the course start?\"\n",
    "      },\n",
    "\n",
    "\"\"\"\n",
    "\n",
    "import numpy as np\n",
    "from tqdm.auto import tqdm\n",
    "\n",
    "embeddings = []\n",
    "\n",
    "for d in tqdm(documents):\n",
    "    text = d['question'] + ' ' + d['text']\n",
    "    v = embedding_model.encode(text)\n",
    "    embeddings.append(v)\n",
    "\n",
    "embeddings = np.array(embeddings)"
   ],
   "id": "2267329388227507",
   "outputs": [
    {
     "data": {
      "text/plain": [
       "  0%|          | 0/948 [00:00<?, ?it/s]"
      ],
      "application/vnd.jupyter.widget-view+json": {
       "version_major": 2,
       "version_minor": 0,
       "model_id": "02a04737430141b990c139449337084c"
      }
     },
     "metadata": {},
     "output_type": "display_data"
    }
   ],
   "execution_count": 4
  },
  {
   "metadata": {
    "ExecuteTime": {
     "end_time": "2025-10-24T21:22:14.915929Z",
     "start_time": "2025-10-24T21:22:14.897347Z"
    }
   },
   "cell_type": "code",
   "source": [
    "from minsearch import VectorSearch\n",
    "\n",
    "vector_index = VectorSearch(keyword_fields=['course'])\n",
    "vector_index.fit(embeddings, documents)\n",
    "\n",
    "# Create a vector Search functon\n",
    "\n",
    "def vector_compare_search(question):\n",
    "    q = embedding_model.encode(question)\n",
    "\n",
    "    return vector_index.search(\n",
    "        q,\n",
    "        filter_dict={'course': 'data-engineering-zoomcamp'},\n",
    "        num_results=5\n",
    "    )"
   ],
   "id": "16394ed9407e3994",
   "outputs": [],
   "execution_count": 5
  },
  {
   "metadata": {
    "ExecuteTime": {
     "end_time": "2025-10-24T21:22:14.951670Z",
     "start_time": "2025-10-24T21:22:14.919027Z"
    }
   },
   "cell_type": "code",
   "source": [
    "from minsearch import Index\n",
    "\n",
    "search_index = Index(\n",
    "    text_fields=[\"question\", \"text\", \"section\"],\n",
    "    keyword_fields=[\"course\"]\n",
    ")\n",
    "\n",
    "search_index.fit(documents)\n",
    "\n",
    "# Create a Simple compare text function\n",
    "def text_compare_search(question):\n",
    "    return search_index.search(\n",
    "        question,\n",
    "    )\n"
   ],
   "id": "c27e79d729cb40a1",
   "outputs": [],
   "execution_count": 6
  },
  {
   "metadata": {
    "ExecuteTime": {
     "end_time": "2025-10-24T21:22:14.956063Z",
     "start_time": "2025-10-24T21:22:14.954415Z"
    }
   },
   "cell_type": "code",
   "source": [
    "# Build your system prompt\n",
    "import json\n",
    "\n",
    "instructions = \"\"\"\n",
    "You're a course teaching assistant. Answer the QUESTION based on the CONTEXT from the FAQ database.\n",
    "Use only the facts from the CONTEXT when answering the QUESTION.\n",
    "\"\"\".strip()\n",
    "\n",
    "prompt_template = \"\"\"\n",
    "<QUESTION>\n",
    "{question}\n",
    "</QUESTION>\n",
    "\n",
    "<CONTEXT>\n",
    "{context}\n",
    "</CONTEXT>\n",
    "\"\"\".strip()\n",
    "\n",
    "def build_prompt(question, search_results):\n",
    "    search_json = json.dumps(search_results)\n",
    "    return prompt_template.format(\n",
    "        question=question,\n",
    "        context=search_json\n",
    "    )"
   ],
   "id": "681725287e989773",
   "outputs": [],
   "execution_count": 7
  },
  {
   "metadata": {
    "ExecuteTime": {
     "end_time": "2025-10-24T21:22:15.444472Z",
     "start_time": "2025-10-24T21:22:14.958213Z"
    }
   },
   "cell_type": "code",
   "source": [
    "#Interact with LLM\n",
    "from openai import OpenAI\n",
    "\n",
    "openai_client = OpenAI()\n",
    "\n",
    "def interact_with_llm(user_prompt, instructions=None, model=\"gpt-4o-mini\"):\n",
    "    messages = []\n",
    "\n",
    "    if instructions:\n",
    "        messages.append({\n",
    "            \"role\": \"system\",\n",
    "            \"content\": instructions\n",
    "        })\n",
    "\n",
    "    messages.append({\n",
    "        \"role\": \"user\",\n",
    "        \"content\": user_prompt\n",
    "    })\n",
    "\n",
    "    response = openai_client.responses.create(\n",
    "        model=model,\n",
    "        input=messages\n",
    "    )\n",
    "\n",
    "    return response.output_text"
   ],
   "id": "604ce18dafe0dac4",
   "outputs": [],
   "execution_count": 8
  },
  {
   "metadata": {
    "ExecuteTime": {
     "end_time": "2025-10-24T21:22:18.500183Z",
     "start_time": "2025-10-24T21:22:15.449394Z"
    }
   },
   "cell_type": "code",
   "source": [
    "# Get output with Vector Search\n",
    "def vector_search_rag(question):\n",
    "    search_results = vector_compare_search(question)\n",
    "    user_prompt = build_prompt(question, search_results)\n",
    "    return interact_with_llm(user_prompt, instructions=instructions)\n",
    "\n",
    "vector_search_rag('what is the name of your program')\n"
   ],
   "id": "e989668b42191de7",
   "outputs": [
    {
     "data": {
      "text/plain": [
       "'The name of the program is \"Data Engineering Zoom Camp 2024.\"'"
      ]
     },
     "execution_count": 9,
     "metadata": {},
     "output_type": "execute_result"
    }
   ],
   "execution_count": 9
  },
  {
   "metadata": {
    "ExecuteTime": {
     "end_time": "2025-10-24T21:22:19.758341Z",
     "start_time": "2025-10-24T21:22:18.523610Z"
    }
   },
   "cell_type": "code",
   "source": [
    "#Get output with Text and Vector Search.\n",
    "def hybrid_search_rag(question):\n",
    "    vector_search_results = vector_compare_search(question)\n",
    "    text_search_results = text_compare_search(question)\n",
    "    user_prompt = build_prompt(question, vector_search_results + text_search_results)\n",
    "    return interact_with_llm(user_prompt, instructions=instructions)\n",
    "\n",
    "hybrid_search_rag('what is the name of your program')"
   ],
   "id": "ee72d9f39f17a346",
   "outputs": [
    {
     "data": {
      "text/plain": [
       "'The name of the program is \"Data Engineering Zoom Camp 2024.\"'"
      ]
     },
     "execution_count": 10,
     "metadata": {},
     "output_type": "execute_result"
    }
   ],
   "execution_count": 10
  }
 ],
 "metadata": {
  "kernelspec": {
   "display_name": "Python 3",
   "language": "python",
   "name": "python3"
  },
  "language_info": {
   "codemirror_mode": {
    "name": "ipython",
    "version": 2
   },
   "file_extension": ".py",
   "mimetype": "text/x-python",
   "name": "python",
   "nbconvert_exporter": "python",
   "pygments_lexer": "ipython2",
   "version": "2.7.6"
  }
 },
 "nbformat": 4,
 "nbformat_minor": 5
}
