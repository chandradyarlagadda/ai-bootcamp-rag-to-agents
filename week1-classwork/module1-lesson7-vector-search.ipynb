{
 "cells": [
  {
   "metadata": {
    "ExecuteTime": {
     "end_time": "2025-10-17T14:30:46.555009Z",
     "start_time": "2025-10-17T14:30:45.872583Z"
    }
   },
   "cell_type": "code",
   "source": [
    "#Read from documents\n",
    "import requests\n",
    "\n",
    "docs_url = 'https://github.com/alexeygrigorev/llm-rag-workshop/raw/main/notebooks/documents.json'\n",
    "docs_response = requests.get(docs_url)\n",
    "documents_raw = docs_response.json()\n",
    "\"\"\"\n",
    "# You are repurposing the documents_raw file\n",
    "\"course\": \"data-engineering-zoomcamp\",\n",
    "    \"documents\": [\n",
    "      {\n",
    "        \"text\": \"The purpose of this document is to capture frequently asked technical....\"\n",
    "      },\n",
    "      ]\n",
    "\n",
    "# to an documents array with the course name in it\n",
    "\n",
    "\"\"\"\n",
    "documents = []\n",
    "\n",
    "\n",
    "\n",
    "\n",
    "for record in documents_raw:\n",
    "    course_name = record['course'] # record is course and documents. We are pulling out the course name.\n",
    "    for element in record['documents']: # element is \"text\": \"The purpose of this document is to capture frequently asked technical....\"\n",
    "        element['course'] = course_name\n",
    "        documents.append(element)\n"
   ],
   "id": "11d6db7244d5e3b7",
   "outputs": [],
   "execution_count": 1
  },
  {
   "metadata": {
    "collapsed": true,
    "ExecuteTime": {
     "end_time": "2025-10-17T14:33:03.206337Z",
     "start_time": "2025-10-17T14:32:51.712706Z"
    }
   },
   "cell_type": "code",
   "source": [
    "#Vector Search is based on cosine similarity, and we need to convert the text to vectors (number representations. We need an embedding model for that)\n",
    "# Other models can be found here https://sbert.net/docs/sentence_transformer/pretrained_models.html#multi-qa-models\n",
    "# https://huggingface.co/sentence-transformers/multi-qa-distilbert-dot-v1\n",
    "# https://youtu.be/wjZofJX0v4M?si=n63ejz0XTVwufdwP&t=1005\n",
    "# note : qa stands for question-answer,\n",
    "# dot stand for dot product\n",
    "# cos stands for cosine similarity\n",
    "\n",
    "from sentence_transformers import SentenceTransformer\n",
    "embedding_model = SentenceTransformer('multi-qa-distilbert-cos-v1')"
   ],
   "id": "1ee908f05bf7772f",
   "outputs": [],
   "execution_count": 2
  },
  {
   "metadata": {
    "ExecuteTime": {
     "end_time": "2025-10-17T16:33:27.326957Z",
     "start_time": "2025-10-17T16:33:27.248857Z"
    }
   },
   "cell_type": "code",
   "source": [
    "#Understand Vectors\n",
    "docs = [\n",
    "    [\"I just discovered the course, can I still join?\"], #Q1 (Question 1)\n",
    "    [\"I just found out about this program, Can I still enroll\"], #Q2 (Question 2)\n",
    "    [\"You can join the course at any point of time\"] # D (Description)\n",
    "]\n",
    "\n",
    "vectors_example = []\n",
    "\n",
    "for d in docs:\n",
    "    v = embedding_model.encode(d)\n",
    "    vectors_example.append(v)\n",
    "\n",
    "#We now have  Question1, Question2 and Description in a vector representation.\n",
    "# We find similarity between questions and then questions with the description\n",
    "\n",
    "# Dot Products :\n",
    "# Values is positive if vector point in same directions (i.e they are similar)\n",
    "#  Value moves to zero when its perpendicular (no similarity)\n",
    "# Value moves to negative when it's more than 90 ( opposite)\n",
    "# https://youtu.be/wjZofJX0v4M?si=n63ejz0XTVwufdwP&t=1005\n",
    "\n",
    "q1, q2, d = vectors_example\n",
    "\n",
    "\n",
    "print(f\"Q1 shape : {q1.shape}\") # (1,768)\n",
    "print(f\"Q2 shape : {q2.shape}\") # (1,768)\n",
    "\n",
    "#When doing dot multiplication we need to transpose i.e 1,768 cannot dot product with 1,768 , it can only multiply with 7\n",
    "\n",
    "print(f\"Q1 shape : {q1.shape}\") # (1,768)\n",
    "print(f\"Q2 Transpose shape : {q2.T.shape}\") # (768, 1)\n",
    "\n",
    "print(f\"Q1 dot d : {q1.dot(d.T)}\") # 0.7205941(Closer to 1 and positive, good similarity between Q1 and Q2)\n",
    "\n",
    "print(f\"Q2 dot d : {q2.dot(d.T)}\") # 0.48303062 (Closer to 1 and positive, ok similarity between Q1 and D but better than text match which would have returned 0)\n",
    "\n",
    "print(f\"Q1 dot Q2 : {q1.dot(q2.T)}\") # 0.606797 (Closer to 1 and positive, good similarity between Q1 and Q2). So given a Q2 and we do a cosine vector search, we will find Q2\n"
   ],
   "id": "a8190d7983149733",
   "outputs": [
    {
     "name": "stdout",
     "output_type": "stream",
     "text": [
      "Q1 shape : (1, 768)\n",
      "Q2 shape : (1, 768)\n",
      "Q1 shape : (1, 768)\n",
      "Q2 Transpose shape : (768, 1)\n",
      "Q1 dot d : [[0.7205941]]\n",
      "Q2 dot d : [[0.48303062]]\n",
      "Q1 dot Q2 : [[0.6067974]]\n"
     ]
    }
   ],
   "execution_count": 19
  },
  {
   "metadata": {
    "ExecuteTime": {
     "end_time": "2025-10-17T15:32:03.120134Z",
     "start_time": "2025-10-17T15:31:50.884060Z"
    }
   },
   "cell_type": "code",
   "outputs": [
    {
     "data": {
      "text/plain": [
       "  0%|          | 0/948 [00:00<?, ?it/s]"
      ],
      "application/vnd.jupyter.widget-view+json": {
       "version_major": 2,
       "version_minor": 0,
       "model_id": "3d2f995a81df4706a9a0e7bc5d1fc080"
      }
     },
     "metadata": {},
     "output_type": "display_data"
    }
   ],
   "execution_count": 3,
   "source": [
    "#Use the embedding model to create an array of vectors.\n",
    "#for that we combine the question: and text: part of the documents sections\n",
    "# This is what worked, wouldn't necessarily work for all\n",
    "# idea is given a q2 and we have the q1 and answer in the same \"string\" we can find the similar text and send it to LLM.\n",
    "\"\"\"\n",
    "[\n",
    "      {\n",
    "        \"text\": \"The purpose of this document is to capture frequently asked technical ...\",\n",
    "        \"section\": \"General course-related questions\",\n",
    "        \"question\": \"Course - When will the course start?\"\n",
    "      },\n",
    "\n",
    "\"\"\"\n",
    "\n",
    "import numpy as np\n",
    "from tqdm.auto import tqdm\n",
    "\n",
    "embeddings = []\n",
    "\n",
    "for d in tqdm(documents):\n",
    "    text = d['question'] + ' ' + d['text']\n",
    "    v = embedding_model.encode(text)\n",
    "    embeddings.append(v)\n",
    "\n",
    "embeddings = np.array(embeddings)"
   ],
   "id": "2267329388227507"
  },
  {
   "metadata": {
    "ExecuteTime": {
     "end_time": "2025-10-17T16:36:30.661097Z",
     "start_time": "2025-10-17T16:36:30.601838Z"
    }
   },
   "cell_type": "code",
   "source": [
    "from minsearch import VectorSearch\n",
    "\n",
    "vindex = VectorSearch(keyword_fields=['course'])\n",
    "vindex.fit(embeddings, documents)"
   ],
   "id": "4cff537aec4558a4",
   "outputs": [
    {
     "data": {
      "text/plain": [
       "<minsearch.vector.VectorSearch at 0x16b59f920>"
      ]
     },
     "execution_count": 20,
     "metadata": {},
     "output_type": "execute_result"
    }
   ],
   "execution_count": 20
  },
  {
   "metadata": {
    "ExecuteTime": {
     "end_time": "2025-10-12T14:50:33.168405Z",
     "start_time": "2025-10-12T14:50:33.165566Z"
    }
   },
   "cell_type": "code",
   "source": [
    "import json\n",
    "\n",
    "instructions = \"\"\"\n",
    "You're a course teaching assistant. Answer the QUESTION based on the CONTEXT from the FAQ database.\n",
    "Use only the facts from the CONTEXT when answering the QUESTION.\n",
    "\"\"\".strip()\n",
    "\n",
    "prompt_template = \"\"\"\n",
    "<QUESTION>\n",
    "{question}\n",
    "</QUESTION>\n",
    "\n",
    "<CONTEXT>\n",
    "{context}\n",
    "</CONTEXT>\n",
    "\"\"\".strip()\n",
    "\n",
    "def build_prompt(question, search_results):\n",
    "    search_json = json.dumps(search_results)\n",
    "    return prompt_template.format(\n",
    "        question=question,\n",
    "        context=search_json\n",
    "    )"
   ],
   "id": "af2c3b287bc11701",
   "outputs": [],
   "execution_count": 8
  },
  {
   "metadata": {
    "ExecuteTime": {
     "end_time": "2025-10-12T14:51:27.332655Z",
     "start_time": "2025-10-12T14:51:26.707651Z"
    }
   },
   "cell_type": "code",
   "source": [
    "from openai import OpenAI\n",
    "\n",
    "openai_client = OpenAI()\n",
    "\n",
    "def llm(user_prompt, instructions=None, model=\"gpt-4o-mini\"):\n",
    "    messages = []\n",
    "\n",
    "    if instructions:\n",
    "        messages.append({\n",
    "            \"role\": \"system\",\n",
    "            \"content\": instructions\n",
    "        })\n",
    "\n",
    "    messages.append({\n",
    "        \"role\": \"user\",\n",
    "        \"content\": user_prompt\n",
    "    })\n",
    "\n",
    "    response = openai_client.responses.create(\n",
    "        model=model,\n",
    "        input=messages\n",
    "    )\n",
    "\n",
    "    return response.output_text"
   ],
   "id": "57a8aba0e96858f2",
   "outputs": [],
   "execution_count": 9
  },
  {
   "metadata": {
    "ExecuteTime": {
     "end_time": "2025-10-12T14:51:36.041207Z",
     "start_time": "2025-10-12T14:51:36.035985Z"
    }
   },
   "cell_type": "code",
   "source": [
    "def vector_search(question):\n",
    "    q = embedding_model.encode(question)\n",
    "\n",
    "    return vindex.search(\n",
    "        q,\n",
    "        filter_dict={'course': 'data-engineering-zoomcamp'},\n",
    "        num_results=5\n",
    "    )\n",
    "\n",
    "def compare_search(question):\n",
    "    q = embedding_model.encode(question)\n",
    "    return vindex.search(\n",
    "        q,\n",
    "    )\n",
    "\n",
    "def rag(question):\n",
    "    search_results = vector_search(question)\n",
    "    user_prompt = build_prompt(question, search_results)\n",
    "    return llm(user_prompt, instructions=instructions)"
   ],
   "id": "b6dc0edebbb88ef7",
   "outputs": [],
   "execution_count": 10
  },
  {
   "metadata": {
    "ExecuteTime": {
     "end_time": "2025-10-12T14:54:21.961109Z",
     "start_time": "2025-10-12T14:54:19.243440Z"
    }
   },
   "cell_type": "code",
   "source": "rag(\"rag('what is the name of your program')\")",
   "id": "3913c8b520dea752",
   "outputs": [
    {
     "data": {
      "text/plain": [
       "'The name of the program is \"Data Engineering Zoom Camp 2024.\"'"
      ]
     },
     "execution_count": 12,
     "metadata": {},
     "output_type": "execute_result"
    }
   ],
   "execution_count": 12
  }
 ],
 "metadata": {
  "kernelspec": {
   "display_name": "Python 3",
   "language": "python",
   "name": "python3"
  },
  "language_info": {
   "codemirror_mode": {
    "name": "ipython",
    "version": 2
   },
   "file_extension": ".py",
   "mimetype": "text/x-python",
   "name": "python",
   "nbconvert_exporter": "python",
   "pygments_lexer": "ipython2",
   "version": "2.7.6"
  }
 },
 "nbformat": 4,
 "nbformat_minor": 5
}
