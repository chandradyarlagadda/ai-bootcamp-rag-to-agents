{
 "cells": [
  {
   "cell_type": "code",
   "id": "6e092aae2c7bcc1e",
   "metadata": {
    "ExecuteTime": {
     "end_time": "2025-10-12T14:52:37.621989Z",
     "start_time": "2025-10-12T14:52:37.280640Z"
    }
   },
   "source": [
    "from openai import OpenAI\n",
    "\n",
    "openai_client = OpenAI()\n",
    "\n",
    "def llm(user_prompt, instructions=None, model=\"gpt-4o-mini\"):\n",
    "    messages = []\n",
    "\n",
    "    if instructions:\n",
    "        messages.append({\n",
    "            \"role\": \"system\",\n",
    "            \"content\": instructions\n",
    "        })\n",
    "\n",
    "    messages.append({\n",
    "        \"role\": \"user\",\n",
    "        \"content\": user_prompt\n",
    "    })\n",
    "\n",
    "    response = openai_client.responses.create(\n",
    "        model=model,\n",
    "        input=messages\n",
    "    )\n",
    "\n",
    "    return response.output_text"
   ],
   "outputs": [],
   "execution_count": 2
  },
  {
   "cell_type": "code",
   "id": "f108f2c2867d7ae0",
   "metadata": {
    "ExecuteTime": {
     "end_time": "2025-10-12T14:52:38.083444Z",
     "start_time": "2025-10-12T14:52:37.626733Z"
    }
   },
   "source": [
    "import requests\n",
    "\n",
    "docs_url = 'https://github.com/alexeygrigorev/llm-rag-workshop/raw/main/notebooks/documents.json'\n",
    "docs_response = requests.get(docs_url)\n",
    "documents_raw = docs_response.json()\n",
    "\n",
    "\n",
    "documents = []\n",
    "\n",
    "for record in documents_raw:\n",
    "    course_name = record['course'] #data-engineering-zoomcamp#\n",
    "\n",
    "    for element in record['documents']: #documents[]\n",
    "        element['course'] = course_name\n",
    "        documents.append(element)\n"
   ],
   "outputs": [],
   "execution_count": 3
  },
  {
   "cell_type": "code",
   "id": "e0197336-15dc-4c05-a3c0-86f8ec5e8125",
   "metadata": {
    "ExecuteTime": {
     "end_time": "2025-10-12T14:52:39.263687Z",
     "start_time": "2025-10-12T14:52:38.092694Z"
    }
   },
   "source": [
    "from minsearch import Index\n",
    "\n",
    "index = Index(\n",
    "    text_fields=[\"question\", \"text\", \"section\"],\n",
    "    keyword_fields=[\"course\"]\n",
    ")\n",
    "\n",
    "index.fit(documents)"
   ],
   "outputs": [
    {
     "data": {
      "text/plain": [
       "<minsearch.minsearch.Index at 0x1058d8ef0>"
      ]
     },
     "execution_count": 4,
     "metadata": {},
     "output_type": "execute_result"
    }
   ],
   "execution_count": 4
  },
  {
   "cell_type": "code",
   "id": "4a8f0ca0-6a76-4881-856e-dc3be1bf5d1a",
   "metadata": {
    "ExecuteTime": {
     "end_time": "2025-10-12T14:52:39.286047Z",
     "start_time": "2025-10-12T14:52:39.282236Z"
    }
   },
   "source": [
    "question = 'What projects will I be working on?'\n",
    "\n",
    "results = index.search(\n",
    "    question,\n",
    "    num_results=5\n",
    ")\n",
    "print(results)"
   ],
   "outputs": [
    {
     "name": "stdout",
     "output_type": "stream",
     "text": [
      "[{'text': 'If you have submitted two projects (and peer-reviewed at least 3 course-mates’ projects for each submission), you will get the certificate for the course. According to the course coordinator, Alexey Grigorev, only two projects are needed to get the course certificate.\\n(optional) David Odimegwu', 'section': 'Projects (Midterm and Capstone)', 'question': 'What If I submitted only two projects and failed to submit the third?', 'course': 'machine-learning-zoomcamp'}, {'text': 'Answer: Previous cohorts projects page has instructions (youtube).\\nhttps://github.com/DataTalksClub/machine-learning-zoomcamp/blob/master/cohorts/2022/projects.md#midterm-project\\nAlexey and his team will compile a g-sheet with links to submitted projects with our hashed emails (just like when we check leaderboard for homework) that are ours to review within the evaluation deadline.\\n~~~ Added by Nukta Bhatia ~~~', 'section': 'Projects (Midterm and Capstone)', 'question': 'How to conduct peer reviews for projects?', 'course': 'machine-learning-zoomcamp'}, {'text': 'Answer: All midterms and capstones are meant to be solo projects. [source @Alexey]', 'section': 'Projects (Midterm and Capstone)', 'question': 'Are projects solo or collaborative/group work?', 'course': 'machine-learning-zoomcamp'}, {'text': 'For the learning in public for this midterm project it seems that has a total value of 14!, Does this mean that we need make 14 posts?, Or the regular seven posts for each module and each one with a value of 2?, Or just one with a total value of 14?\\n14 posts, one for each day', 'section': 'Projects (Midterm and Capstone)', 'question': 'Learning in public links for the projects', 'course': 'machine-learning-zoomcamp'}, {'text': 'Answer: You can see them here (it’s taken from the 2022 cohort page). Go to the cohort folder for your own cohort’s deadline.', 'section': 'Projects (Midterm and Capstone)', 'question': 'What are the project deadlines?', 'course': 'machine-learning-zoomcamp'}]\n"
     ]
    }
   ],
   "execution_count": 5
  },
  {
   "cell_type": "code",
   "id": "0e9ced9c-bc12-4020-8d49-82fb74c0c6f4",
   "metadata": {
    "ExecuteTime": {
     "end_time": "2025-10-12T14:52:39.298630Z",
     "start_time": "2025-10-12T14:52:39.297027Z"
    }
   },
   "source": [
    "def search(query):\n",
    "    boost = {'question': 3.0, 'section': 0.5}\n",
    "\n",
    "    results = index.search(\n",
    "        query=query,\n",
    "        filter_dict={'course': 'data-engineering-zoomcamp'},\n",
    "        boost_dict=boost,\n",
    "        num_results=5\n",
    "    )\n",
    "\n",
    "    return results\n"
   ],
   "outputs": [],
   "execution_count": 6
  },
  {
   "cell_type": "code",
   "id": "afb5881e-a7c0-42fd-8aa0-57d9378e0d6e",
   "metadata": {
    "ExecuteTime": {
     "end_time": "2025-10-12T14:52:39.308130Z",
     "start_time": "2025-10-12T14:52:39.306514Z"
    }
   },
   "source": [
    "instructions = \"\"\"\n",
    "You're a course teaching assistant. Answer the QUESTION based on the CONTEXT from the FAQ database.\n",
    "Use only the facts from the CONTEXT when answering the QUESTION.\n",
    "\"\"\".strip()\n",
    "\n",
    "prompt_template = \"\"\"\n",
    "<QUESTION>\n",
    "{question}\n",
    "</QUESTION>\n",
    "\n",
    "<CONTEXT>\n",
    "{context}\n",
    "</CONTEXT>\n",
    "\"\"\".strip()\n",
    "\n",
    "def build_prompt(question, search_results):\n",
    "    search_json = json.dumps(search_results)\n",
    "    return prompt_template.format(\n",
    "        question=question,\n",
    "        context=search_json\n",
    "    )\n"
   ],
   "outputs": [],
   "execution_count": 7
  },
  {
   "cell_type": "code",
   "id": "749c9f3c-881d-4972-a4a4-3306e9fee9b0",
   "metadata": {
    "ExecuteTime": {
     "end_time": "2025-10-12T14:52:39.313600Z",
     "start_time": "2025-10-12T14:52:39.312140Z"
    }
   },
   "source": [
    "import json\n",
    "def rag(query):\n",
    "    search_results = search(query)\n",
    "    prompt = build_prompt(query, search_results)\n",
    "    answer = llm(prompt, instructions=instructions)\n",
    "    return answer"
   ],
   "outputs": [],
   "execution_count": 8
  },
  {
   "cell_type": "code",
   "id": "b3f19072-b92e-462d-99b9-f726562403f6",
   "metadata": {
    "ExecuteTime": {
     "end_time": "2025-10-12T14:54:27.613048Z",
     "start_time": "2025-10-12T14:54:26.660109Z"
    }
   },
   "source": "rag('what is the name of your program')",
   "outputs": [
    {
     "data": {
      "text/plain": [
       "'The name of the program is \"data-engineering-zoomcamp.\"'"
      ]
     },
     "execution_count": 11,
     "metadata": {},
     "output_type": "execute_result"
    }
   ],
   "execution_count": 11
  },
  {
   "cell_type": "code",
   "id": "221b8fcd-d312-4bb5-9c3b-8bdd8fdd94b4",
   "metadata": {
    "ExecuteTime": {
     "end_time": "2025-10-12T14:52:43.898823Z",
     "start_time": "2025-10-12T14:52:43.897460Z"
    }
   },
   "source": [],
   "outputs": [],
   "execution_count": null
  }
 ],
 "metadata": {
  "kernelspec": {
   "display_name": "Python 3 (ipykernel)",
   "language": "python",
   "name": "python3"
  },
  "language_info": {
   "codemirror_mode": {
    "name": "ipython",
    "version": 3
   },
   "file_extension": ".py",
   "mimetype": "text/x-python",
   "name": "python",
   "nbconvert_exporter": "python",
   "pygments_lexer": "ipython3",
   "version": "3.12.9"
  }
 },
 "nbformat": 4,
 "nbformat_minor": 5
}
